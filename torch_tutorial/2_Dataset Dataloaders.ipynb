{
 "cells": [
  {
   "cell_type": "markdown",
   "metadata": {},
   "source": [
    "- 데이터셋 코드와 모델 훈련 코드를 서로 독립적으로 작성하여 가독성과 모듈성을 높이는 것이 좋다\n",
    "- PyTorch는 두 가지 데이터 프리미티브(Data Primitives : 는 데이터 처리를 위한 기본적인 도구와 함수)를 제공한다\n",
    "    - torch.utils.data.DataLoader\n",
    "    - torch.utils.data.Dataset\n",
    "    \n"
   ]
  },
  {
   "cell_type": "code",
   "execution_count": null,
   "metadata": {},
   "outputs": [],
   "source": []
  }
 ],
 "metadata": {
  "language_info": {
   "name": "python"
  },
  "orig_nbformat": 4
 },
 "nbformat": 4,
 "nbformat_minor": 2
}
