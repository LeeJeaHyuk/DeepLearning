{
 "cells": [
  {
   "cell_type": "markdown",
   "metadata": {},
   "source": [
    "## BUILD THE NEURAL NETWORK"
   ]
  },
  {
   "cell_type": "markdown",
   "metadata": {},
   "source": [
    "- 신경망은 데이터에 대해 작업을 수행하는 층(layer)와 모듈로 구성되어있다 \n",
    "- torch.nn 은 Pytorch에서 신경망을 구성하는 다양한 레이어, 손실 함수, 활성화 함수 등과 같은 신경망과 관련된 모든 구성 요소를 포함하는 모듈이다 "
   ]
  },
  {
   "cell_type": "code",
   "execution_count": 1,
   "metadata": {},
   "outputs": [],
   "source": [
    "import os\n",
    "import torch\n",
    "from torch import nn\n",
    "from torch.utils.data import DataLoader\n",
    "from torchvision import datasets, transforms"
   ]
  },
  {
   "cell_type": "markdown",
   "metadata": {},
   "source": [
    "## Get Device for Training"
   ]
  },
  {
   "cell_type": "markdown",
   "metadata": {},
   "source": [
    "- GPU가 사용되지 않는 이유\n",
    "    - CUDA와 GPU 드라이버 설치가 되어 있지 않는 경우\n",
    "    - Pytorch GPU 버전 설치 \n",
    "    - 환경 설정: GPU를 사용하기 위해 코드를 실행하는 환경이 GPU를 지원하도록 설정"
   ]
  },
  {
   "cell_type": "code",
   "execution_count": 2,
   "metadata": {},
   "outputs": [
    {
     "name": "stdout",
     "output_type": "stream",
     "text": [
      "Using cpu device\n"
     ]
    }
   ],
   "source": [
    "device = (\n",
    "    \"cuda\"\n",
    "    if torch.cuda.is_available()\n",
    "    else \"mps\"\n",
    "    if torch.backends.mps.is_available()\n",
    "    else \"cpu\"\n",
    ")\n",
    "print(f\"Using {device} device\")"
   ]
  },
  {
   "cell_type": "code",
   "execution_count": 3,
   "metadata": {},
   "outputs": [
    {
     "name": "stdout",
     "output_type": "stream",
     "text": [
      "2.0.1+cpu\n"
     ]
    }
   ],
   "source": [
    "print(torch.__version__)"
   ]
  },
  {
   "cell_type": "markdown",
   "metadata": {},
   "source": [
    "- +cpu 로 표시되면 해당 PyTorch 버전은 CPU만 지원하는 버전"
   ]
  },
  {
   "cell_type": "markdown",
   "metadata": {},
   "source": [
    "## Define the Class"
   ]
  },
  {
   "cell_type": "markdown",
   "metadata": {},
   "source": [
    "-신경망을 정의하기 위해 PyTorch에서는 nn.Module을 서브클래싱(subclassing)하는 방식을 사용한다\n",
    "- 새로운 신경망 클래스를 정의할 때 nn.Module을 상속받기\n",
    "- __init__ 메서드에서 신경망의 레이어들을 초기화\n",
    "- forward 메서드 구현: forward 메서드는 입력 데이터에 대해 신경망의 연산을 수행하는 함수\n",
    "    - 신경망은 입력 데이터를 forward 메서드에 전달하면 이 메서드에서 정의된 레이어들과 연산들을 통해 출력을 계산한다"
   ]
  },
  {
   "cell_type": "code",
   "execution_count": 4,
   "metadata": {},
   "outputs": [],
   "source": [
    "class NeuralNetwork(nn.Module):\n",
    "\n",
    "    # nn.Modlue을 사용하기 위해 super().__init__()으로 초기화\n",
    "    def __init__(self):\n",
    "        super().__init__()\n",
    "        self.flatten = nn.Flatten()\n",
    "        self.linear_relu_stack = nn.Sequential(\n",
    "            nn.Linear(28*28, 512),\n",
    "            nn.ReLU(),\n",
    "            nn.Linear(512, 512),\n",
    "            nn.ReLU(),\n",
    "            nn.Linear(512, 10),\n",
    "        )\n",
    "        \n",
    "    # (forward pass) 연산을 정의\n",
    "    def forward(self, x):\n",
    "        x = self.flatten(x)\n",
    "        logits = self.linear_relu_stack(x)\n",
    "        return logits"
   ]
  },
  {
   "cell_type": "code",
   "execution_count": 5,
   "metadata": {},
   "outputs": [
    {
     "name": "stdout",
     "output_type": "stream",
     "text": [
      "NeuralNetwork(\n",
      "  (flatten): Flatten(start_dim=1, end_dim=-1)\n",
      "  (linear_relu_stack): Sequential(\n",
      "    (0): Linear(in_features=784, out_features=512, bias=True)\n",
      "    (1): ReLU()\n",
      "    (2): Linear(in_features=512, out_features=512, bias=True)\n",
      "    (3): ReLU()\n",
      "    (4): Linear(in_features=512, out_features=10, bias=True)\n",
      "  )\n",
      ")\n"
     ]
    }
   ],
   "source": [
    "model = NeuralNetwork().to(device)\n",
    "print(model)"
   ]
  },
  {
   "cell_type": "code",
   "execution_count": 6,
   "metadata": {},
   "outputs": [
    {
     "name": "stdout",
     "output_type": "stream",
     "text": [
      "Predicted class: tensor([2])\n"
     ]
    }
   ],
   "source": [
    "X = torch.rand(1, 28, 28, device=device)\n",
    "logits = model(X)\n",
    "pred_probab = nn.Softmax(dim=1)(logits)\n",
    "y_pred = pred_probab.argmax(1)\n",
    "print(f\"Predicted class: {y_pred}\")"
   ]
  },
  {
   "cell_type": "markdown",
   "metadata": {},
   "source": [
    "- PyTorch에서는 모델에 입력 데이터를 전달하면 내부적으로 forward 메서드가 자동으로 실행되기 때문에 forward 메서드를 직접 호출할 필요가 없다\n",
    "- 모델에 입력 데이터를 전달하면 모델은 순전파 연산을 수행하며, 예측 결과를 반환한다\n",
    "- 반환되는 결과는 2차원 텐서로, dim=0에는 각 클래스에 대한 10개의 로우(raw) 형태의 예측 값이 저장되고, dim=1에는 각 로우의 값들이 저장된다\n",
    "    -각 로우는 하나의 클래스에 해당하는 확률 값을 나타낸다\n",
    "- 이러한 로우(raw) 형태의 예측 값을 확률로 변환하기 위해 nn.Softmax 모듈을 사용한다\n",
    "\n",
    "\n",
    "- 모델 사용시 입력 데이터를 model(input_data)와 같이 전달하면 모델은 내부적으로 forward 메서드를 실행하여 예측 결과를 반환하고, 이후에 nn.Softmax 모듈을 사용하여 예측 결과를 확률로 변환한다\n"
   ]
  },
  {
   "cell_type": "markdown",
   "metadata": {},
   "source": [
    "## Model Layers"
   ]
  },
  {
   "cell_type": "markdown",
   "metadata": {},
   "source": [
    "- FashionMNIST 모델의 레이어를 분석해보기\n",
    "- 28x28인 3개의 이미지로 구성된 샘플 미니 배치를 가져와 네트워크를 통과할 때 어떤 일이 발생하는지 확인해보기"
   ]
  },
  {
   "cell_type": "code",
   "execution_count": 7,
   "metadata": {},
   "outputs": [
    {
     "name": "stdout",
     "output_type": "stream",
     "text": [
      "torch.Size([3, 28, 28])\n"
     ]
    }
   ],
   "source": [
    "# 이미지 크기 확인\n",
    "input_image = torch.rand(3,28,28)\n",
    "print(input_image.size())"
   ]
  },
  {
   "cell_type": "markdown",
   "metadata": {},
   "source": [
    "### nn.Flatten"
   ]
  },
  {
   "cell_type": "code",
   "execution_count": 8,
   "metadata": {},
   "outputs": [
    {
     "name": "stdout",
     "output_type": "stream",
     "text": [
      "torch.Size([3, 784])\n"
     ]
    }
   ],
   "source": [
    "# flatten으로 평탄화시킨다 28 x 28 -> 784\n",
    "flatten = nn.Flatten()\n",
    "flat_image = flatten(input_image)\n",
    "print(flat_image.size())"
   ]
  },
  {
   "cell_type": "markdown",
   "metadata": {},
   "source": [
    "### nn.Linear"
   ]
  },
  {
   "cell_type": "code",
   "execution_count": 9,
   "metadata": {},
   "outputs": [
    {
     "name": "stdout",
     "output_type": "stream",
     "text": [
      "torch.Size([3, 20])\n"
     ]
    }
   ],
   "source": [
    "# 3, 784의 평탄화된 데이터를 20차원으로 변환하여 선형 변환\n",
    "layer1 = nn.Linear(in_features=28*28, out_features=20)\n",
    "hidden1 = layer1(flat_image)\n",
    "print(hidden1.size())"
   ]
  },
  {
   "cell_type": "markdown",
   "metadata": {},
   "source": [
    "### nn.ReLU"
   ]
  },
  {
   "cell_type": "code",
   "execution_count": 10,
   "metadata": {},
   "outputs": [
    {
     "name": "stdout",
     "output_type": "stream",
     "text": [
      "Before ReLU: tensor([[-0.4549, -0.7128,  0.0573,  0.3001, -0.1151, -0.4910, -0.1201,  0.2837,\n",
      "          0.4052,  0.2720,  0.1437, -0.2351,  0.2494,  0.1500,  0.6491,  0.6975,\n",
      "         -0.1830,  0.0318, -0.1086,  0.3282],\n",
      "        [-0.4765, -0.3805,  0.0638, -0.0440, -0.2845, -0.2333,  0.0334,  0.1886,\n",
      "          0.1882,  0.0268,  0.0145, -0.3439,  0.2707, -0.3125,  0.9771,  0.3445,\n",
      "          0.2186,  0.1515,  0.0483,  0.3754],\n",
      "        [-0.6089, -0.2549, -0.0617, -0.3366, -0.1765, -0.1312,  0.0844,  0.2242,\n",
      "          0.3076,  0.3140,  0.1585,  0.3524,  0.2829, -0.2035,  1.0896,  0.1408,\n",
      "         -0.2916,  0.1948, -0.1727,  0.0846]], grad_fn=<AddmmBackward0>)\n",
      "\n",
      "\n",
      "After ReLU: tensor([[0.0000, 0.0000, 0.0573, 0.3001, 0.0000, 0.0000, 0.0000, 0.2837, 0.4052,\n",
      "         0.2720, 0.1437, 0.0000, 0.2494, 0.1500, 0.6491, 0.6975, 0.0000, 0.0318,\n",
      "         0.0000, 0.3282],\n",
      "        [0.0000, 0.0000, 0.0638, 0.0000, 0.0000, 0.0000, 0.0334, 0.1886, 0.1882,\n",
      "         0.0268, 0.0145, 0.0000, 0.2707, 0.0000, 0.9771, 0.3445, 0.2186, 0.1515,\n",
      "         0.0483, 0.3754],\n",
      "        [0.0000, 0.0000, 0.0000, 0.0000, 0.0000, 0.0000, 0.0844, 0.2242, 0.3076,\n",
      "         0.3140, 0.1585, 0.3524, 0.2829, 0.0000, 1.0896, 0.1408, 0.0000, 0.1948,\n",
      "         0.0000, 0.0846]], grad_fn=<ReluBackward0>)\n"
     ]
    }
   ],
   "source": [
    "print(f\"Before ReLU: {hidden1}\\n\\n\")\n",
    "hidden1 = nn.ReLU()(hidden1)\n",
    "print(f\"After ReLU: {hidden1}\")"
   ]
  },
  {
   "cell_type": "markdown",
   "metadata": {},
   "source": [
    "- ReLU를 적용하기 전에는 음수와 양수 모두 포함되어있지만\n",
    "- ReLU를 적용 이후에는 음수 값들이 0으로 변환되어 음수 값은 모두 제거되고, 양수 값들은 그대로 유지한다\n",
    "\n",
    "- ReLU\n",
    "    - ReLU 활성화 함수는 신경망의 비선형성을 증가시키는 역할\n",
    "    - 음수 값을 0으로 제거함으로써 데이터의 특징을 강조"
   ]
  },
  {
   "cell_type": "markdown",
   "metadata": {},
   "source": [
    "### nn.Sequential"
   ]
  },
  {
   "cell_type": "code",
   "execution_count": 11,
   "metadata": {},
   "outputs": [],
   "source": [
    "seq_modules = nn.Sequential(\n",
    "    flatten,\n",
    "    layer1,\n",
    "    nn.ReLU(),\n",
    "    nn.Linear(20, 10)\n",
    ")\n",
    "input_image = torch.rand(3,28,28)\n",
    "logits = seq_modules(input_image)"
   ]
  },
  {
   "cell_type": "markdown",
   "metadata": {},
   "source": [
    "- nn.Sequential은 여러 개의 모듈을 순차적으로 쌓아서 하나의 모듈로 만드는 데 사용\n"
   ]
  },
  {
   "cell_type": "markdown",
   "metadata": {},
   "source": [
    "### nn.Softmax"
   ]
  },
  {
   "cell_type": "code",
   "execution_count": 12,
   "metadata": {},
   "outputs": [],
   "source": [
    "softmax = nn.Softmax(dim=1)\n",
    "pred_probab = softmax(logits)"
   ]
  },
  {
   "cell_type": "markdown",
   "metadata": {},
   "source": [
    "## Model Parameters"
   ]
  },
  {
   "cell_type": "code",
   "execution_count": 13,
   "metadata": {},
   "outputs": [
    {
     "name": "stdout",
     "output_type": "stream",
     "text": [
      "Model structure: NeuralNetwork(\n",
      "  (flatten): Flatten(start_dim=1, end_dim=-1)\n",
      "  (linear_relu_stack): Sequential(\n",
      "    (0): Linear(in_features=784, out_features=512, bias=True)\n",
      "    (1): ReLU()\n",
      "    (2): Linear(in_features=512, out_features=512, bias=True)\n",
      "    (3): ReLU()\n",
      "    (4): Linear(in_features=512, out_features=10, bias=True)\n",
      "  )\n",
      ")\n",
      "\n",
      "\n",
      "Layer: linear_relu_stack.0.weight | Size: torch.Size([512, 784]) | Values : tensor([[ 0.0042, -0.0200, -0.0299,  ...,  0.0142, -0.0069, -0.0057],\n",
      "        [ 0.0315, -0.0146,  0.0063,  ..., -0.0284, -0.0290,  0.0253]],\n",
      "       grad_fn=<SliceBackward0>) \n",
      "\n",
      "Layer: linear_relu_stack.0.bias | Size: torch.Size([512]) | Values : tensor([0.0202, 0.0021], grad_fn=<SliceBackward0>) \n",
      "\n",
      "Layer: linear_relu_stack.2.weight | Size: torch.Size([512, 512]) | Values : tensor([[ 0.0441, -0.0004,  0.0019,  ...,  0.0097,  0.0181,  0.0381],\n",
      "        [ 0.0195,  0.0368,  0.0350,  ...,  0.0231,  0.0359,  0.0380]],\n",
      "       grad_fn=<SliceBackward0>) \n",
      "\n",
      "Layer: linear_relu_stack.2.bias | Size: torch.Size([512]) | Values : tensor([ 0.0360, -0.0263], grad_fn=<SliceBackward0>) \n",
      "\n",
      "Layer: linear_relu_stack.4.weight | Size: torch.Size([10, 512]) | Values : tensor([[ 0.0149,  0.0112, -0.0419,  ..., -0.0129,  0.0051, -0.0111],\n",
      "        [ 0.0239,  0.0368, -0.0272,  ..., -0.0143, -0.0125,  0.0306]],\n",
      "       grad_fn=<SliceBackward0>) \n",
      "\n",
      "Layer: linear_relu_stack.4.bias | Size: torch.Size([10]) | Values : tensor([ 0.0299, -0.0022], grad_fn=<SliceBackward0>) \n",
      "\n"
     ]
    }
   ],
   "source": [
    "print(f\"Model structure: {model}\\n\\n\")\n",
    "\n",
    "for name, param in model.named_parameters():\n",
    "    print(f\"Layer: {name} | Size: {param.size()} | Values : {param[:2]} \\n\")"
   ]
  },
  {
   "cell_type": "code",
   "execution_count": 17,
   "metadata": {},
   "outputs": [
    {
     "name": "stdout",
     "output_type": "stream",
     "text": [
      "----------------------------------------------------------------\n",
      "        Layer (type)               Output Shape         Param #\n",
      "================================================================\n",
      "           Flatten-1                 [-1, 2352]               0\n",
      "            Linear-2                   [-1, 20]          47,060\n",
      "              ReLU-3                   [-1, 20]               0\n",
      "            Linear-4                   [-1, 10]             210\n",
      "================================================================\n",
      "Total params: 47,270\n",
      "Trainable params: 47,270\n",
      "Non-trainable params: 0\n",
      "----------------------------------------------------------------\n",
      "Input size (MB): 0.01\n",
      "Forward/backward pass size (MB): 0.02\n",
      "Params size (MB): 0.18\n",
      "Estimated Total Size (MB): 0.21\n",
      "----------------------------------------------------------------\n"
     ]
    }
   ],
   "source": [
    "from torchsummary import summary\n",
    "import torch.nn as nn\n",
    "\n",
    "class NeuralNetwork(nn.Module):\n",
    "    def __init__(self):\n",
    "        super(NeuralNetwork, self).__init__()\n",
    "        self.flatten = nn.Flatten()\n",
    "        self.layer1 = nn.Linear(in_features=3*28*28, out_features=20)  # 입력 크기 수정\n",
    "        self.relu = nn.ReLU()\n",
    "        self.layer2 = nn.Linear(in_features=20, out_features=10)\n",
    "\n",
    "    def forward(self, x):\n",
    "        x = self.flatten(x)\n",
    "        x = self.layer1(x)\n",
    "        x = self.relu(x)\n",
    "        x = self.layer2(x)\n",
    "        return x\n",
    "\n",
    "model = NeuralNetwork()\n",
    "device = torch.device(\"cuda\" if torch.cuda.is_available() else \"cpu\")\n",
    "model.to(device)\n",
    "\n",
    "# 모델 요약 정보 출력\n",
    "summary(model, input_size=(3, 28, 28))"
   ]
  },
  {
   "cell_type": "code",
   "execution_count": null,
   "metadata": {},
   "outputs": [],
   "source": []
  }
 ],
 "metadata": {
  "kernelspec": {
   "display_name": "daconenv",
   "language": "python",
   "name": "python3"
  },
  "language_info": {
   "codemirror_mode": {
    "name": "ipython",
    "version": 3
   },
   "file_extension": ".py",
   "mimetype": "text/x-python",
   "name": "python",
   "nbconvert_exporter": "python",
   "pygments_lexer": "ipython3",
   "version": "3.10.11"
  },
  "orig_nbformat": 4
 },
 "nbformat": 4,
 "nbformat_minor": 2
}
