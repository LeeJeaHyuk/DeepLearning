{
 "cells": [
  {
   "cell_type": "code",
   "execution_count": 1,
   "metadata": {},
   "outputs": [],
   "source": [
    "from IPython.core.interactiveshell import InteractiveShell \n",
    "InteractiveShell.ast_node_interactivity = \"all\""
   ]
  },
  {
   "cell_type": "code",
   "execution_count": 2,
   "metadata": {},
   "outputs": [],
   "source": [
    "import pandas as pd\n",
    "from sklearn.preprocessing import LabelEncoder"
   ]
  },
  {
   "cell_type": "code",
   "execution_count": 4,
   "metadata": {},
   "outputs": [],
   "source": [
    "trn_data = pd.read_csv('./data/train.csv')\n",
    "tst_data= pd.read_csv('./data/test.csv')\n",
    "sub= pd.read_csv('./data/sample_submission.csv')\n",
    "snp = pd.read_csv('./data/snp_info.csv')"
   ]
  },
  {
   "cell_type": "code",
   "execution_count": 6,
   "metadata": {},
   "outputs": [
    {
     "data": {
      "text/plain": [
       "['SNP_01',\n",
       " 'SNP_02',\n",
       " 'SNP_03',\n",
       " 'SNP_04',\n",
       " 'SNP_05',\n",
       " 'SNP_06',\n",
       " 'SNP_07',\n",
       " 'SNP_08',\n",
       " 'SNP_09',\n",
       " 'SNP_10',\n",
       " 'SNP_11',\n",
       " 'SNP_12',\n",
       " 'SNP_13',\n",
       " 'SNP_14',\n",
       " 'SNP_15']"
      ]
     },
     "execution_count": 6,
     "metadata": {},
     "output_type": "execute_result"
    }
   ],
   "source": []
  },
  {
   "cell_type": "code",
   "execution_count": 6,
   "metadata": {},
   "outputs": [
    {
     "name": "stdout",
     "output_type": "stream",
     "text": [
      "<class 'pandas.core.frame.DataFrame'>\n",
      "RangeIndex: 262 entries, 0 to 261\n",
      "Data columns (total 21 columns):\n",
      " #   Column  Non-Null Count  Dtype \n",
      "---  ------  --------------  ----- \n",
      " 0   id      262 non-null    object\n",
      " 1   father  262 non-null    int64 \n",
      " 2   mother  262 non-null    int64 \n",
      " 3   gender  262 non-null    int64 \n",
      " 4   trait   262 non-null    int64 \n",
      " 5   SNP_01  262 non-null    object\n",
      " 6   SNP_02  262 non-null    object\n",
      " 7   SNP_03  262 non-null    object\n",
      " 8   SNP_04  262 non-null    object\n",
      " 9   SNP_05  262 non-null    object\n",
      " 10  SNP_06  262 non-null    object\n",
      " 11  SNP_07  262 non-null    object\n",
      " 12  SNP_08  262 non-null    object\n",
      " 13  SNP_09  262 non-null    object\n",
      " 14  SNP_10  262 non-null    object\n",
      " 15  SNP_11  262 non-null    object\n",
      " 16  SNP_12  262 non-null    object\n",
      " 17  SNP_13  262 non-null    object\n",
      " 18  SNP_14  262 non-null    object\n",
      " 19  SNP_15  262 non-null    object\n",
      " 20  class   262 non-null    object\n",
      "dtypes: int64(4), object(17)\n",
      "memory usage: 43.1+ KB\n"
     ]
    }
   ],
   "source": [
    "# trn_data.info()\n",
    "# tst_data.info()"
   ]
  },
  {
   "cell_type": "code",
   "execution_count": 8,
   "metadata": {},
   "outputs": [
    {
     "data": {
      "text/plain": [
       "Index(['id', 'father', 'mother', 'gender', 'trait', 'SNP_01', 'SNP_02',\n",
       "       'SNP_03', 'SNP_04', 'SNP_05', 'SNP_06', 'SNP_07', 'SNP_08', 'SNP_09',\n",
       "       'SNP_10', 'SNP_11', 'SNP_12', 'SNP_13', 'SNP_14', 'SNP_15', 'class'],\n",
       "      dtype='object')"
      ]
     },
     "execution_count": 8,
     "metadata": {},
     "output_type": "execute_result"
    }
   ],
   "source": [
    "trn_data.columns"
   ]
  },
  {
   "cell_type": "code",
   "execution_count": 14,
   "metadata": {},
   "outputs": [
    {
     "name": "stderr",
     "output_type": "stream",
     "text": [
      "C:\\Users\\deepBlue\\AppData\\Local\\Temp\\ipykernel_14856\\1869791530.py:1: FutureWarning: The default value of numeric_only in DataFrameGroupBy.sum is deprecated. In a future version, numeric_only will default to False. Either specify numeric_only or select only columns which should be valid for the function.\n",
      "  trn_data.groupby('trait').sum()\n"
     ]
    },
    {
     "data": {
      "text/html": [
       "<div>\n",
       "<style scoped>\n",
       "    .dataframe tbody tr th:only-of-type {\n",
       "        vertical-align: middle;\n",
       "    }\n",
       "\n",
       "    .dataframe tbody tr th {\n",
       "        vertical-align: top;\n",
       "    }\n",
       "\n",
       "    .dataframe thead th {\n",
       "        text-align: right;\n",
       "    }\n",
       "</style>\n",
       "<table border=\"1\" class=\"dataframe\">\n",
       "  <thead>\n",
       "    <tr style=\"text-align: right;\">\n",
       "      <th></th>\n",
       "      <th>father</th>\n",
       "      <th>mother</th>\n",
       "      <th>gender</th>\n",
       "    </tr>\n",
       "    <tr>\n",
       "      <th>trait</th>\n",
       "      <th></th>\n",
       "      <th></th>\n",
       "      <th></th>\n",
       "    </tr>\n",
       "  </thead>\n",
       "  <tbody>\n",
       "    <tr>\n",
       "      <th>1</th>\n",
       "      <td>0</td>\n",
       "      <td>0</td>\n",
       "      <td>0</td>\n",
       "    </tr>\n",
       "    <tr>\n",
       "      <th>2</th>\n",
       "      <td>0</td>\n",
       "      <td>0</td>\n",
       "      <td>0</td>\n",
       "    </tr>\n",
       "  </tbody>\n",
       "</table>\n",
       "</div>"
      ],
      "text/plain": [
       "       father  mother  gender\n",
       "trait                        \n",
       "1           0       0       0\n",
       "2           0       0       0"
      ]
     },
     "execution_count": 14,
     "metadata": {},
     "output_type": "execute_result"
    }
   ],
   "source": [
    "trn_data.groupby('trait').sum()"
   ]
  },
  {
   "cell_type": "code",
   "execution_count": 15,
   "metadata": {},
   "outputs": [],
   "source": [
    "seq = ['id', 'father', 'mother', 'gender', 'trait', 'SNP_01', 'SNP_02',\n",
    "       'SNP_03', 'SNP_04', 'SNP_05', 'SNP_06', 'SNP_07', 'SNP_08', 'SNP_09',\n",
    "       'SNP_10', 'SNP_11', 'SNP_12', 'SNP_13', 'SNP_14', 'SNP_15', 'class']\n",
    "\n",
    "# for i in range(len(seq)):\n",
    "#     print(seq[i])\n",
    "#     train.groupby(seq[i]).sum()"
   ]
  },
  {
   "cell_type": "code",
   "execution_count": 8,
   "metadata": {},
   "outputs": [],
   "source": [
    "# 컬럼 나누기\n",
    "one_hot_features = ['trait']\n",
    "\n",
    "categorical_features = [f'SNP_{str(x).zfill(2)}' for x in range(1,16)]"
   ]
  },
  {
   "cell_type": "code",
   "execution_count": 17,
   "metadata": {},
   "outputs": [],
   "source": [
    "# 라벨 인코딩\n",
    "def encode_categorical(train_df, test_df, categ_feat = categorical_features):\n",
    "\n",
    "    encoder_dict = {}\n",
    "    \n",
    "    concat_data = pd.concat([trn_data[categ_feat], tst_data[categ_feat]])\n",
    "    \n",
    "    for col in concat_data.columns:\n",
    "        print('Encoding: ', col, '...')\n",
    "        encoder = LabelEncoder()\n",
    "        encoder.fit(concat_data[col])\n",
    "        encoder_dict[col] = encoder\n",
    "\n",
    "        train_df[col + '_Enc'] = encoder.transform(train_df[col])\n",
    "        test_df[col + '_Enc'] = encoder.transform(test_df[col])\n",
    "    \n",
    "    train_df = train_df.drop(columns = categ_feat, axis = 1)\n",
    "    test_df = test_df.drop(columns = categ_feat, axis = 1)\n",
    "\n",
    "    return train_df, test_df"
   ]
  },
  {
   "cell_type": "code",
   "execution_count": 18,
   "metadata": {},
   "outputs": [
    {
     "name": "stdout",
     "output_type": "stream",
     "text": [
      "Encoding:  SNP_01 ...\n",
      "Encoding:  SNP_02 ...\n",
      "Encoding:  SNP_03 ...\n",
      "Encoding:  SNP_04 ...\n",
      "Encoding:  SNP_05 ...\n",
      "Encoding:  SNP_06 ...\n",
      "Encoding:  SNP_07 ...\n",
      "Encoding:  SNP_08 ...\n",
      "Encoding:  SNP_09 ...\n",
      "Encoding:  SNP_10 ...\n",
      "Encoding:  SNP_11 ...\n",
      "Encoding:  SNP_12 ...\n",
      "Encoding:  SNP_13 ...\n",
      "Encoding:  SNP_14 ...\n",
      "Encoding:  SNP_15 ...\n"
     ]
    }
   ],
   "source": [
    "trn_data, tst_data = encode_categorical(trn_data, tst_data, categorical_features)"
   ]
  },
  {
   "cell_type": "code",
   "execution_count": 19,
   "metadata": {},
   "outputs": [],
   "source": [
    "# 원핫\n",
    "def one_hot(df, one_hot_categ):\n",
    "    for col in one_hot_categ:\n",
    "        tmp = pd.get_dummies(df[col], prefix = col)\n",
    "        df = pd.concat([df, tmp], axis = 1)\n",
    "    df = df.drop(columns = one_hot_categ)\n",
    "    return df"
   ]
  },
  {
   "cell_type": "code",
   "execution_count": 21,
   "metadata": {},
   "outputs": [],
   "source": [
    "trn_data = one_hot(trn_data, one_hot_features)\n",
    "tst_data = one_hot(tst_data, one_hot_features)"
   ]
  },
  {
   "cell_type": "code",
   "execution_count": 25,
   "metadata": {},
   "outputs": [],
   "source": [
    "trn_data = trn_data.drop(['father','mother','gender'], axis=1)\n",
    "tst_data = tst_data.drop(['father','mother','gender'], axis=1)"
   ]
  },
  {
   "cell_type": "code",
   "execution_count": 27,
   "metadata": {},
   "outputs": [],
   "source": [
    "## 파일 생성\n",
    "import os\n",
    "from datetime import datetime\n",
    "\n",
    "def file_make(filename):\n",
    "    now = datetime.now()\n",
    "    date =  now.strftime('%Y-%m-%d')\n",
    "\n",
    "    file_path = './'+ filename +'/' + date\n",
    "    os.makedirs(file_path,exist_ok=True)\n",
    "    print(file_path)\n",
    "    return file_path"
   ]
  },
  {
   "cell_type": "code",
   "execution_count": 28,
   "metadata": {},
   "outputs": [
    {
     "name": "stdout",
     "output_type": "stream",
     "text": [
      "./data/2022-12-13\n",
      "./data/2022-12-13\n"
     ]
    }
   ],
   "source": [
    "trn_path = file_make('data') + '/trn_data.csv'\n",
    "tst_path = file_make('data') + '/tst_data.csv'\n",
    "\n",
    "trn_data.to_csv(trn_path,index=False)\n",
    "tst_data.to_csv(tst_path,index=False)"
   ]
  },
  {
   "cell_type": "code",
   "execution_count": null,
   "metadata": {},
   "outputs": [],
   "source": []
  }
 ],
 "metadata": {
  "kernelspec": {
   "display_name": "Python 3",
   "language": "python",
   "name": "python3"
  },
  "language_info": {
   "codemirror_mode": {
    "name": "ipython",
    "version": 3
   },
   "file_extension": ".py",
   "mimetype": "text/x-python",
   "name": "python",
   "nbconvert_exporter": "python",
   "pygments_lexer": "ipython3",
   "version": "3.10.9"
  },
  "orig_nbformat": 4,
  "vscode": {
   "interpreter": {
    "hash": "d86e5f3e65a370f4f0c7c6c157476db0f2576129ce19971a1015c727da11cca3"
   }
  }
 },
 "nbformat": 4,
 "nbformat_minor": 2
}
