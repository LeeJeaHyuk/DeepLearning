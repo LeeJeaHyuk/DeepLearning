{
 "cells": [
  {
   "cell_type": "code",
   "execution_count": 1,
   "metadata": {
    "id": "s5oX7oayKvPP"
   },
   "outputs": [],
   "source": [
    "from sklearn.model_selection import train_test_split, KFold, GridSearchCV\n",
    "\n",
    "from sklearn.ensemble import RandomForestClassifier\n",
    "from sklearn.ensemble import ExtraTreesClassifier\n",
    "from sklearn.neighbors import KNeighborsClassifier\n",
    "from sklearn.linear_model import LogisticRegression\n",
    "from sklearn.ensemble import GradientBoostingClassifier\n",
    "from sklearn.svm import SVC\n",
    "from sklearn.metrics import accuracy_score\n",
    "from lightgbm import LGBMClassifier\n",
    "from xgboost import XGBClassifier\n",
    "import catboost\n",
    "from catboost import CatBoostClassifier\n",
    "\n",
    "from sklearn.metrics import precision_score,recall_score\n",
    "from sklearn.metrics import f1_score"
   ]
  },
  {
   "cell_type": "code",
   "execution_count": 2,
   "metadata": {},
   "outputs": [],
   "source": [
    "## 파일 생성 및 경로\n",
    "import os\n",
    "from datetime import datetime\n",
    "\n",
    "def file_make(filename):\n",
    "    now = datetime.now()\n",
    "    date =  now.strftime('%Y-%m-%d')\n",
    "\n",
    "    file_path = './'+ filename +'/' + date\n",
    "    os.makedirs(file_path,exist_ok=True)\n",
    "    print(file_path)\n",
    "    return file_path"
   ]
  },
  {
   "cell_type": "code",
   "execution_count": 30,
   "metadata": {
    "id": "NTPNi19gLzeP"
   },
   "outputs": [],
   "source": [
    "import pandas as pd\n",
    "\n",
    "trn_data = pd.read_csv('./data/2022-12-14/trn_data.csv')\n",
    "tst_data = pd.read_csv('./data/2022-12-14/tst_data.csv')\n",
    "sub = pd.read_csv('./data/sample_submission.csv')"
   ]
  },
  {
   "cell_type": "code",
   "execution_count": 31,
   "metadata": {},
   "outputs": [],
   "source": [
    "def cat_to_num(df):\n",
    "    df['class'] = df['class'].replace({'A':0,'B':1,'C':2})\n",
    "    return df\n",
    "\n",
    "def num_to_cat(df):\n",
    "    df['class'] = df['class'].replace({0:'A',1:'B',2:'C'})\n",
    "    return df"
   ]
  },
  {
   "cell_type": "code",
   "execution_count": 32,
   "metadata": {},
   "outputs": [],
   "source": [
    "trn_data = cat_to_num(trn_data)"
   ]
  },
  {
   "cell_type": "code",
   "execution_count": 33,
   "metadata": {},
   "outputs": [],
   "source": [
    "features = trn_data.drop(['id', 'class',],axis=1)\n",
    "labels = trn_data['class']\n",
    "X_train, X_test, y_train, y_test=train_test_split(features,labels,test_size=0.3,random_state=42)"
   ]
  },
  {
   "cell_type": "code",
   "execution_count": 34,
   "metadata": {},
   "outputs": [],
   "source": [
    "import numpy as np\n",
    "import optuna\n",
    "from optuna import Trial, visualization\n",
    "from optuna.samplers import TPESampler\n",
    "from sklearn.model_selection import cross_val_score\n",
    "\n",
    "def objective(trial):\n",
    "    data, target = features,labels\n",
    "    train_x, valid_x, train_y, valid_y = train_test_split(features,labels, test_size=0.3)\n",
    "\n",
    "\n",
    "    param = {\n",
    "        'objective': 'multi:softmax',\n",
    "        'num_class' : [4],\n",
    "        'eval_metric': 'mlogloss', # Multiclass logloss\n",
    "        'lambda': trial.suggest_float('lambda', 0, 10.0),\n",
    "        'alpha': trial.suggest_float('alpha', 0, 10.0),\n",
    "        'colsample_bytree': trial.suggest_float('colsample_bytree', 0.1,1.0),\n",
    "        'subsample': trial.suggest_float('subsample', 0.2,1.0),\n",
    "        'learning_rate': trial.suggest_float('learning_rate', 0.0001,0.1),\n",
    "        'n_estimators': trial.suggest_int('n_estimators', 100,3000),\n",
    "        'max_depth': trial.suggest_categorical('max_depth', [2,3,4,5,6,7,8,9,10]),\n",
    "        'min_child_weight': trial.suggest_int('min_child_weight', 1, 10),\n",
    "        'num_parallel_tree': trial.suggest_int('num_parallel_tree',1,1),\n",
    "    }\n",
    "\n",
    "\n",
    "    xgb = XGBClassifier(**param)\n",
    "\n",
    "    xgb.fit(train_x, train_y, eval_set=[(valid_x, valid_y)], verbose=0, early_stopping_rounds=100)\n",
    "\n",
    "    preds = xgb.predict(valid_x)\n",
    "    pred_labels = np.rint(preds)\n",
    "    accuracy = accuracy_score(valid_y, pred_labels)\n",
    "    return accuracy"
   ]
  },
  {
   "cell_type": "code",
   "execution_count": 35,
   "metadata": {},
   "outputs": [
    {
     "name": "stderr",
     "output_type": "stream",
     "text": [
      "\u001b[32m[I 2022-12-14 19:30:16,956]\u001b[0m A new study created in memory with name: no-name-9ee9dde6-cba9-4b24-a784-f227bfab9e3e\u001b[0m\n",
      "C:\\Users\\deepBlue\\AppData\\Local\\Packages\\PythonSoftwareFoundation.Python.3.10_qbz5n2kfra8p0\\LocalCache\\local-packages\\Python310\\site-packages\\xgboost\\sklearn.py:861: UserWarning:\n",
      "\n",
      "`early_stopping_rounds` in `fit` method is deprecated for better compatibility with scikit-learn, use `early_stopping_rounds` in constructor or`set_params` instead.\n",
      "\n",
      "\u001b[32m[I 2022-12-14 19:30:17,583]\u001b[0m Trial 0 finished with value: 0.6582278481012658 and parameters: {'lambda': 1.5401875646088337, 'alpha': 9.86104432924106, 'colsample_bytree': 0.22150986289197516, 'subsample': 0.2677306677176876, 'learning_rate': 0.06628493583984972, 'n_estimators': 1223, 'max_depth': 7, 'min_child_weight': 9, 'num_parallel_tree': 1}. Best is trial 0 with value: 0.6582278481012658.\u001b[0m\n",
      "C:\\Users\\deepBlue\\AppData\\Local\\Packages\\PythonSoftwareFoundation.Python.3.10_qbz5n2kfra8p0\\LocalCache\\local-packages\\Python310\\site-packages\\xgboost\\sklearn.py:861: UserWarning:\n",
      "\n",
      "`early_stopping_rounds` in `fit` method is deprecated for better compatibility with scikit-learn, use `early_stopping_rounds` in constructor or`set_params` instead.\n",
      "\n",
      "\u001b[32m[I 2022-12-14 19:30:18,789]\u001b[0m Trial 1 finished with value: 0.9240506329113924 and parameters: {'lambda': 9.281584607944245, 'alpha': 3.5422490736539136, 'colsample_bytree': 0.35160614621721653, 'subsample': 0.47616260536098215, 'learning_rate': 0.08801081115941019, 'n_estimators': 1979, 'max_depth': 8, 'min_child_weight': 8, 'num_parallel_tree': 1}. Best is trial 1 with value: 0.9240506329113924.\u001b[0m\n",
      "C:\\Users\\deepBlue\\AppData\\Local\\Packages\\PythonSoftwareFoundation.Python.3.10_qbz5n2kfra8p0\\LocalCache\\local-packages\\Python310\\site-packages\\xgboost\\sklearn.py:861: UserWarning:\n",
      "\n",
      "`early_stopping_rounds` in `fit` method is deprecated for better compatibility with scikit-learn, use `early_stopping_rounds` in constructor or`set_params` instead.\n",
      "\n",
      "\u001b[32m[I 2022-12-14 19:30:20,062]\u001b[0m Trial 2 finished with value: 0.9493670886075949 and parameters: {'lambda': 4.815356250427025, 'alpha': 3.203051634826455, 'colsample_bytree': 0.4485158564610334, 'subsample': 0.606833041844363, 'learning_rate': 0.04830231200334576, 'n_estimators': 1826, 'max_depth': 4, 'min_child_weight': 9, 'num_parallel_tree': 1}. Best is trial 2 with value: 0.9493670886075949.\u001b[0m\n",
      "C:\\Users\\deepBlue\\AppData\\Local\\Packages\\PythonSoftwareFoundation.Python.3.10_qbz5n2kfra8p0\\LocalCache\\local-packages\\Python310\\site-packages\\xgboost\\sklearn.py:861: UserWarning:\n",
      "\n",
      "`early_stopping_rounds` in `fit` method is deprecated for better compatibility with scikit-learn, use `early_stopping_rounds` in constructor or`set_params` instead.\n",
      "\n",
      "\u001b[32m[I 2022-12-14 19:30:21,314]\u001b[0m Trial 3 finished with value: 0.9746835443037974 and parameters: {'lambda': 8.869531521914132, 'alpha': 5.683890471482764, 'colsample_bytree': 0.6548728310308173, 'subsample': 0.8881574685590292, 'learning_rate': 0.09519045314546881, 'n_estimators': 2024, 'max_depth': 8, 'min_child_weight': 7, 'num_parallel_tree': 1}. Best is trial 3 with value: 0.9746835443037974.\u001b[0m\n",
      "C:\\Users\\deepBlue\\AppData\\Local\\Packages\\PythonSoftwareFoundation.Python.3.10_qbz5n2kfra8p0\\LocalCache\\local-packages\\Python310\\site-packages\\xgboost\\sklearn.py:861: UserWarning:\n",
      "\n",
      "`early_stopping_rounds` in `fit` method is deprecated for better compatibility with scikit-learn, use `early_stopping_rounds` in constructor or`set_params` instead.\n",
      "\n",
      "\u001b[32m[I 2022-12-14 19:30:21,565]\u001b[0m Trial 4 finished with value: 0.9367088607594937 and parameters: {'lambda': 9.225079706084571, 'alpha': 9.182837278560052, 'colsample_bytree': 0.6827929671771127, 'subsample': 0.7732767483355361, 'learning_rate': 0.04402955816894519, 'n_estimators': 229, 'max_depth': 9, 'min_child_weight': 9, 'num_parallel_tree': 1}. Best is trial 3 with value: 0.9746835443037974.\u001b[0m\n",
      "C:\\Users\\deepBlue\\AppData\\Local\\Packages\\PythonSoftwareFoundation.Python.3.10_qbz5n2kfra8p0\\LocalCache\\local-packages\\Python310\\site-packages\\xgboost\\sklearn.py:861: UserWarning:\n",
      "\n",
      "`early_stopping_rounds` in `fit` method is deprecated for better compatibility with scikit-learn, use `early_stopping_rounds` in constructor or`set_params` instead.\n",
      "\n",
      "\u001b[32m[I 2022-12-14 19:30:22,191]\u001b[0m Trial 5 finished with value: 0.9113924050632911 and parameters: {'lambda': 0.43459538308287415, 'alpha': 5.520486184361403, 'colsample_bytree': 0.7473297289664451, 'subsample': 0.2665127441356268, 'learning_rate': 0.08485328598990106, 'n_estimators': 1241, 'max_depth': 9, 'min_child_weight': 5, 'num_parallel_tree': 1}. Best is trial 3 with value: 0.9746835443037974.\u001b[0m\n",
      "C:\\Users\\deepBlue\\AppData\\Local\\Packages\\PythonSoftwareFoundation.Python.3.10_qbz5n2kfra8p0\\LocalCache\\local-packages\\Python310\\site-packages\\xgboost\\sklearn.py:861: UserWarning:\n",
      "\n",
      "`early_stopping_rounds` in `fit` method is deprecated for better compatibility with scikit-learn, use `early_stopping_rounds` in constructor or`set_params` instead.\n",
      "\n",
      "\u001b[32m[I 2022-12-14 19:30:22,806]\u001b[0m Trial 6 finished with value: 0.9620253164556962 and parameters: {'lambda': 0.4638580426298067, 'alpha': 4.039128175582328, 'colsample_bytree': 0.9679194062618934, 'subsample': 0.47943555561034934, 'learning_rate': 0.07259987908312306, 'n_estimators': 881, 'max_depth': 4, 'min_child_weight': 1, 'num_parallel_tree': 1}. Best is trial 3 with value: 0.9746835443037974.\u001b[0m\n",
      "C:\\Users\\deepBlue\\AppData\\Local\\Packages\\PythonSoftwareFoundation.Python.3.10_qbz5n2kfra8p0\\LocalCache\\local-packages\\Python310\\site-packages\\xgboost\\sklearn.py:861: UserWarning:\n",
      "\n",
      "`early_stopping_rounds` in `fit` method is deprecated for better compatibility with scikit-learn, use `early_stopping_rounds` in constructor or`set_params` instead.\n",
      "\n",
      "\u001b[32m[I 2022-12-14 19:30:23,615]\u001b[0m Trial 7 finished with value: 0.9367088607594937 and parameters: {'lambda': 5.593368193887933, 'alpha': 2.2891809877320632, 'colsample_bytree': 0.3284833611471587, 'subsample': 0.7480868587524834, 'learning_rate': 0.09062145825367106, 'n_estimators': 1577, 'max_depth': 6, 'min_child_weight': 9, 'num_parallel_tree': 1}. Best is trial 3 with value: 0.9746835443037974.\u001b[0m\n",
      "C:\\Users\\deepBlue\\AppData\\Local\\Packages\\PythonSoftwareFoundation.Python.3.10_qbz5n2kfra8p0\\LocalCache\\local-packages\\Python310\\site-packages\\xgboost\\sklearn.py:861: UserWarning:\n",
      "\n",
      "`early_stopping_rounds` in `fit` method is deprecated for better compatibility with scikit-learn, use `early_stopping_rounds` in constructor or`set_params` instead.\n",
      "\n",
      "\u001b[32m[I 2022-12-14 19:30:25,255]\u001b[0m Trial 8 finished with value: 0.8860759493670886 and parameters: {'lambda': 8.800527818149694, 'alpha': 4.097316859735697, 'colsample_bytree': 0.1849094949195008, 'subsample': 0.47572135572168606, 'learning_rate': 0.013150055228365886, 'n_estimators': 2708, 'max_depth': 2, 'min_child_weight': 3, 'num_parallel_tree': 1}. Best is trial 3 with value: 0.9746835443037974.\u001b[0m\n",
      "C:\\Users\\deepBlue\\AppData\\Local\\Packages\\PythonSoftwareFoundation.Python.3.10_qbz5n2kfra8p0\\LocalCache\\local-packages\\Python310\\site-packages\\xgboost\\sklearn.py:861: UserWarning:\n",
      "\n",
      "`early_stopping_rounds` in `fit` method is deprecated for better compatibility with scikit-learn, use `early_stopping_rounds` in constructor or`set_params` instead.\n",
      "\n",
      "\u001b[32m[I 2022-12-14 19:30:25,712]\u001b[0m Trial 9 finished with value: 0.8734177215189873 and parameters: {'lambda': 7.296278060156556, 'alpha': 5.89755634870463, 'colsample_bytree': 0.37650387577848266, 'subsample': 0.957932686982657, 'learning_rate': 0.08272126571997314, 'n_estimators': 2035, 'max_depth': 7, 'min_child_weight': 7, 'num_parallel_tree': 1}. Best is trial 3 with value: 0.9746835443037974.\u001b[0m\n",
      "C:\\Users\\deepBlue\\AppData\\Local\\Packages\\PythonSoftwareFoundation.Python.3.10_qbz5n2kfra8p0\\LocalCache\\local-packages\\Python310\\site-packages\\xgboost\\sklearn.py:861: UserWarning:\n",
      "\n",
      "`early_stopping_rounds` in `fit` method is deprecated for better compatibility with scikit-learn, use `early_stopping_rounds` in constructor or`set_params` instead.\n",
      "\n",
      "\u001b[32m[I 2022-12-14 19:30:27,277]\u001b[0m Trial 10 finished with value: 0.9367088607594937 and parameters: {'lambda': 3.6880943359484637, 'alpha': 7.525068163638801, 'colsample_bytree': 0.6483061697400594, 'subsample': 0.9825023304606579, 'learning_rate': 0.024213311607250196, 'n_estimators': 2884, 'max_depth': 3, 'min_child_weight': 5, 'num_parallel_tree': 1}. Best is trial 3 with value: 0.9746835443037974.\u001b[0m\n",
      "C:\\Users\\deepBlue\\AppData\\Local\\Packages\\PythonSoftwareFoundation.Python.3.10_qbz5n2kfra8p0\\LocalCache\\local-packages\\Python310\\site-packages\\xgboost\\sklearn.py:861: UserWarning:\n",
      "\n",
      "`early_stopping_rounds` in `fit` method is deprecated for better compatibility with scikit-learn, use `early_stopping_rounds` in constructor or`set_params` instead.\n",
      "\n",
      "\u001b[32m[I 2022-12-14 19:30:27,624]\u001b[0m Trial 11 finished with value: 0.9746835443037974 and parameters: {'lambda': 2.475958966209193, 'alpha': 1.0562173508256754, 'colsample_bytree': 0.9961945601510858, 'subsample': 0.46138365346243354, 'learning_rate': 0.06637507083882566, 'n_estimators': 271, 'max_depth': 5, 'min_child_weight': 1, 'num_parallel_tree': 1}. Best is trial 3 with value: 0.9746835443037974.\u001b[0m\n",
      "C:\\Users\\deepBlue\\AppData\\Local\\Packages\\PythonSoftwareFoundation.Python.3.10_qbz5n2kfra8p0\\LocalCache\\local-packages\\Python310\\site-packages\\xgboost\\sklearn.py:861: UserWarning:\n",
      "\n",
      "`early_stopping_rounds` in `fit` method is deprecated for better compatibility with scikit-learn, use `early_stopping_rounds` in constructor or`set_params` instead.\n",
      "\n",
      "\u001b[32m[I 2022-12-14 19:30:27,851]\u001b[0m Trial 12 finished with value: 0.9493670886075949 and parameters: {'lambda': 3.2608258423489316, 'alpha': 0.12388413119368746, 'colsample_bytree': 0.9791615088762247, 'subsample': 0.7409402383353314, 'learning_rate': 0.06184843313875995, 'n_estimators': 345, 'max_depth': 5, 'min_child_weight': 3, 'num_parallel_tree': 1}. Best is trial 3 with value: 0.9746835443037974.\u001b[0m\n",
      "C:\\Users\\deepBlue\\AppData\\Local\\Packages\\PythonSoftwareFoundation.Python.3.10_qbz5n2kfra8p0\\LocalCache\\local-packages\\Python310\\site-packages\\xgboost\\sklearn.py:861: UserWarning:\n",
      "\n",
      "`early_stopping_rounds` in `fit` method is deprecated for better compatibility with scikit-learn, use `early_stopping_rounds` in constructor or`set_params` instead.\n",
      "\n",
      "\u001b[32m[I 2022-12-14 19:30:28,030]\u001b[0m Trial 13 finished with value: 0.9113924050632911 and parameters: {'lambda': 6.983639819070376, 'alpha': 0.7556820803580857, 'colsample_bytree': 0.8294645041009415, 'subsample': 0.6052845949757392, 'learning_rate': 0.09924979974961248, 'n_estimators': 2386, 'max_depth': 8, 'min_child_weight': 1, 'num_parallel_tree': 1}. Best is trial 3 with value: 0.9746835443037974.\u001b[0m\n",
      "C:\\Users\\deepBlue\\AppData\\Local\\Packages\\PythonSoftwareFoundation.Python.3.10_qbz5n2kfra8p0\\LocalCache\\local-packages\\Python310\\site-packages\\xgboost\\sklearn.py:861: UserWarning:\n",
      "\n",
      "`early_stopping_rounds` in `fit` method is deprecated for better compatibility with scikit-learn, use `early_stopping_rounds` in constructor or`set_params` instead.\n",
      "\n",
      "\u001b[32m[I 2022-12-14 19:30:28,394]\u001b[0m Trial 14 finished with value: 0.9367088607594937 and parameters: {'lambda': 2.3696503490349445, 'alpha': 6.898613033765229, 'colsample_bytree': 0.8531359492569869, 'subsample': 0.8601534722862538, 'learning_rate': 0.03852068273025981, 'n_estimators': 651, 'max_depth': 5, 'min_child_weight': 6, 'num_parallel_tree': 1}. Best is trial 3 with value: 0.9746835443037974.\u001b[0m\n",
      "C:\\Users\\deepBlue\\AppData\\Local\\Packages\\PythonSoftwareFoundation.Python.3.10_qbz5n2kfra8p0\\LocalCache\\local-packages\\Python310\\site-packages\\xgboost\\sklearn.py:861: UserWarning:\n",
      "\n",
      "`early_stopping_rounds` in `fit` method is deprecated for better compatibility with scikit-learn, use `early_stopping_rounds` in constructor or`set_params` instead.\n",
      "\n",
      "\u001b[32m[I 2022-12-14 19:30:29,511]\u001b[0m Trial 15 finished with value: 0.9367088607594937 and parameters: {'lambda': 5.355573214776525, 'alpha': 1.8154595407485439, 'colsample_bytree': 0.5609511821325259, 'subsample': 0.3677786741702356, 'learning_rate': 0.05960737486534647, 'n_estimators': 2418, 'max_depth': 10, 'min_child_weight': 3, 'num_parallel_tree': 1}. Best is trial 3 with value: 0.9746835443037974.\u001b[0m\n",
      "C:\\Users\\deepBlue\\AppData\\Local\\Packages\\PythonSoftwareFoundation.Python.3.10_qbz5n2kfra8p0\\LocalCache\\local-packages\\Python310\\site-packages\\xgboost\\sklearn.py:861: UserWarning:\n",
      "\n",
      "`early_stopping_rounds` in `fit` method is deprecated for better compatibility with scikit-learn, use `early_stopping_rounds` in constructor or`set_params` instead.\n",
      "\n",
      "\u001b[32m[I 2022-12-14 19:30:30,410]\u001b[0m Trial 16 finished with value: 0.8987341772151899 and parameters: {'lambda': 7.323833718354932, 'alpha': 7.152772402223957, 'colsample_bytree': 0.5307003827170559, 'subsample': 0.6698769195627137, 'learning_rate': 0.07416213362700658, 'n_estimators': 1183, 'max_depth': 8, 'min_child_weight': 7, 'num_parallel_tree': 1}. Best is trial 3 with value: 0.9746835443037974.\u001b[0m\n",
      "C:\\Users\\deepBlue\\AppData\\Local\\Packages\\PythonSoftwareFoundation.Python.3.10_qbz5n2kfra8p0\\LocalCache\\local-packages\\Python310\\site-packages\\xgboost\\sklearn.py:861: UserWarning:\n",
      "\n",
      "`early_stopping_rounds` in `fit` method is deprecated for better compatibility with scikit-learn, use `early_stopping_rounds` in constructor or`set_params` instead.\n",
      "\n",
      "\u001b[32m[I 2022-12-14 19:30:30,898]\u001b[0m Trial 17 finished with value: 0.9240506329113924 and parameters: {'lambda': 1.9329136993494564, 'alpha': 4.988590666124043, 'colsample_bytree': 0.8961805557063888, 'subsample': 0.36952396809151455, 'learning_rate': 0.09876613326339191, 'n_estimators': 627, 'max_depth': 5, 'min_child_weight': 4, 'num_parallel_tree': 1}. Best is trial 3 with value: 0.9746835443037974.\u001b[0m\n",
      "C:\\Users\\deepBlue\\AppData\\Local\\Packages\\PythonSoftwareFoundation.Python.3.10_qbz5n2kfra8p0\\LocalCache\\local-packages\\Python310\\site-packages\\xgboost\\sklearn.py:861: UserWarning:\n",
      "\n",
      "`early_stopping_rounds` in `fit` method is deprecated for better compatibility with scikit-learn, use `early_stopping_rounds` in constructor or`set_params` instead.\n",
      "\n",
      "\u001b[32m[I 2022-12-14 19:30:31,867]\u001b[0m Trial 18 finished with value: 0.8987341772151899 and parameters: {'lambda': 3.953918928070509, 'alpha': 1.759638712902972, 'colsample_bytree': 0.7727867256833196, 'subsample': 0.8723211045019302, 'learning_rate': 0.0032617300714740394, 'n_estimators': 1579, 'max_depth': 2, 'min_child_weight': 7, 'num_parallel_tree': 1}. Best is trial 3 with value: 0.9746835443037974.\u001b[0m\n",
      "C:\\Users\\deepBlue\\AppData\\Local\\Packages\\PythonSoftwareFoundation.Python.3.10_qbz5n2kfra8p0\\LocalCache\\local-packages\\Python310\\site-packages\\xgboost\\sklearn.py:861: UserWarning:\n",
      "\n",
      "`early_stopping_rounds` in `fit` method is deprecated for better compatibility with scikit-learn, use `early_stopping_rounds` in constructor or`set_params` instead.\n",
      "\n",
      "\u001b[32m[I 2022-12-14 19:30:33,245]\u001b[0m Trial 19 finished with value: 0.9240506329113924 and parameters: {'lambda': 6.265413739543373, 'alpha': 8.169917689437604, 'colsample_bytree': 0.6145051809082802, 'subsample': 0.3904977310920524, 'learning_rate': 0.03358215113771635, 'n_estimators': 2290, 'max_depth': 3, 'min_child_weight': 2, 'num_parallel_tree': 1}. Best is trial 3 with value: 0.9746835443037974.\u001b[0m\n",
      "C:\\Users\\deepBlue\\AppData\\Local\\Packages\\PythonSoftwareFoundation.Python.3.10_qbz5n2kfra8p0\\LocalCache\\local-packages\\Python310\\site-packages\\xgboost\\sklearn.py:861: UserWarning:\n",
      "\n",
      "`early_stopping_rounds` in `fit` method is deprecated for better compatibility with scikit-learn, use `early_stopping_rounds` in constructor or`set_params` instead.\n",
      "\n",
      "\u001b[32m[I 2022-12-14 19:30:33,913]\u001b[0m Trial 20 finished with value: 0.8607594936708861 and parameters: {'lambda': 8.468035309861753, 'alpha': 6.101121407964332, 'colsample_bytree': 0.10456034046544371, 'subsample': 0.5366998169570838, 'learning_rate': 0.057695566916164724, 'n_estimators': 971, 'max_depth': 10, 'min_child_weight': 10, 'num_parallel_tree': 1}. Best is trial 3 with value: 0.9746835443037974.\u001b[0m\n",
      "C:\\Users\\deepBlue\\AppData\\Local\\Packages\\PythonSoftwareFoundation.Python.3.10_qbz5n2kfra8p0\\LocalCache\\local-packages\\Python310\\site-packages\\xgboost\\sklearn.py:861: UserWarning:\n",
      "\n",
      "`early_stopping_rounds` in `fit` method is deprecated for better compatibility with scikit-learn, use `early_stopping_rounds` in constructor or`set_params` instead.\n",
      "\n",
      "\u001b[32m[I 2022-12-14 19:30:34,019]\u001b[0m Trial 21 finished with value: 0.8860759493670886 and parameters: {'lambda': 0.16256155222815155, 'alpha': 4.391511911955082, 'colsample_bytree': 0.9906267570655936, 'subsample': 0.48529546875809565, 'learning_rate': 0.07477667296098277, 'n_estimators': 110, 'max_depth': 4, 'min_child_weight': 1, 'num_parallel_tree': 1}. Best is trial 3 with value: 0.9746835443037974.\u001b[0m\n",
      "C:\\Users\\deepBlue\\AppData\\Local\\Packages\\PythonSoftwareFoundation.Python.3.10_qbz5n2kfra8p0\\LocalCache\\local-packages\\Python310\\site-packages\\xgboost\\sklearn.py:861: UserWarning:\n",
      "\n",
      "`early_stopping_rounds` in `fit` method is deprecated for better compatibility with scikit-learn, use `early_stopping_rounds` in constructor or`set_params` instead.\n",
      "\n",
      "\u001b[32m[I 2022-12-14 19:30:34,336]\u001b[0m Trial 22 finished with value: 0.9746835443037974 and parameters: {'lambda': 0.9501498889319364, 'alpha': 2.7964969562817963, 'colsample_bytree': 0.939238368076247, 'subsample': 0.5445940549420429, 'learning_rate': 0.07347124588047214, 'n_estimators': 544, 'max_depth': 4, 'min_child_weight': 2, 'num_parallel_tree': 1}. Best is trial 3 with value: 0.9746835443037974.\u001b[0m\n",
      "C:\\Users\\deepBlue\\AppData\\Local\\Packages\\PythonSoftwareFoundation.Python.3.10_qbz5n2kfra8p0\\LocalCache\\local-packages\\Python310\\site-packages\\xgboost\\sklearn.py:861: UserWarning:\n",
      "\n",
      "`early_stopping_rounds` in `fit` method is deprecated for better compatibility with scikit-learn, use `early_stopping_rounds` in constructor or`set_params` instead.\n",
      "\n",
      "\u001b[32m[I 2022-12-14 19:30:34,613]\u001b[0m Trial 23 finished with value: 0.9493670886075949 and parameters: {'lambda': 1.2229291712958723, 'alpha': 2.8070953976888697, 'colsample_bytree': 0.9086301811852047, 'subsample': 0.6655525566414389, 'learning_rate': 0.0792576434001543, 'n_estimators': 470, 'max_depth': 6, 'min_child_weight': 2, 'num_parallel_tree': 1}. Best is trial 3 with value: 0.9746835443037974.\u001b[0m\n",
      "C:\\Users\\deepBlue\\AppData\\Local\\Packages\\PythonSoftwareFoundation.Python.3.10_qbz5n2kfra8p0\\LocalCache\\local-packages\\Python310\\site-packages\\xgboost\\sklearn.py:861: UserWarning:\n",
      "\n",
      "`early_stopping_rounds` in `fit` method is deprecated for better compatibility with scikit-learn, use `early_stopping_rounds` in constructor or`set_params` instead.\n",
      "\n",
      "\u001b[32m[I 2022-12-14 19:30:34,852]\u001b[0m Trial 24 finished with value: 0.9113924050632911 and parameters: {'lambda': 2.496489055036897, 'alpha': 1.0831792946591698, 'colsample_bytree': 0.7653684139215373, 'subsample': 0.5630950119126782, 'learning_rate': 0.06754665441175291, 'n_estimators': 798, 'max_depth': 4, 'min_child_weight': 2, 'num_parallel_tree': 1}. Best is trial 3 with value: 0.9746835443037974.\u001b[0m\n",
      "C:\\Users\\deepBlue\\AppData\\Local\\Packages\\PythonSoftwareFoundation.Python.3.10_qbz5n2kfra8p0\\LocalCache\\local-packages\\Python310\\site-packages\\xgboost\\sklearn.py:861: UserWarning:\n",
      "\n",
      "`early_stopping_rounds` in `fit` method is deprecated for better compatibility with scikit-learn, use `early_stopping_rounds` in constructor or`set_params` instead.\n",
      "\n",
      "\u001b[32m[I 2022-12-14 19:30:35,135]\u001b[0m Trial 25 finished with value: 0.9240506329113924 and parameters: {'lambda': 1.0694929577651264, 'alpha': 0.22728420455732268, 'colsample_bytree': 0.9126444632968487, 'subsample': 0.6673928759115383, 'learning_rate': 0.054928558694902874, 'n_estimators': 465, 'max_depth': 5, 'min_child_weight': 4, 'num_parallel_tree': 1}. Best is trial 3 with value: 0.9746835443037974.\u001b[0m\n",
      "C:\\Users\\deepBlue\\AppData\\Local\\Packages\\PythonSoftwareFoundation.Python.3.10_qbz5n2kfra8p0\\LocalCache\\local-packages\\Python310\\site-packages\\xgboost\\sklearn.py:861: UserWarning:\n",
      "\n",
      "`early_stopping_rounds` in `fit` method is deprecated for better compatibility with scikit-learn, use `early_stopping_rounds` in constructor or`set_params` instead.\n",
      "\n",
      "\u001b[32m[I 2022-12-14 19:30:35,624]\u001b[0m Trial 26 finished with value: 0.9113924050632911 and parameters: {'lambda': 9.869577883785562, 'alpha': 1.4895673865173829, 'colsample_bytree': 0.8455121727148911, 'subsample': 0.42439912247285905, 'learning_rate': 0.09231524766471459, 'n_estimators': 1377, 'max_depth': 8, 'min_child_weight': 6, 'num_parallel_tree': 1}. Best is trial 3 with value: 0.9746835443037974.\u001b[0m\n",
      "C:\\Users\\deepBlue\\AppData\\Local\\Packages\\PythonSoftwareFoundation.Python.3.10_qbz5n2kfra8p0\\LocalCache\\local-packages\\Python310\\site-packages\\xgboost\\sklearn.py:861: UserWarning:\n",
      "\n",
      "`early_stopping_rounds` in `fit` method is deprecated for better compatibility with scikit-learn, use `early_stopping_rounds` in constructor or`set_params` instead.\n",
      "\n",
      "\u001b[32m[I 2022-12-14 19:30:36,598]\u001b[0m Trial 27 finished with value: 0.9240506329113924 and parameters: {'lambda': 3.000306774285521, 'alpha': 2.53769992341784, 'colsample_bytree': 0.7198226422798302, 'subsample': 0.3170046020204695, 'learning_rate': 0.07999932153277267, 'n_estimators': 1851, 'max_depth': 4, 'min_child_weight': 4, 'num_parallel_tree': 1}. Best is trial 3 with value: 0.9746835443037974.\u001b[0m\n",
      "C:\\Users\\deepBlue\\AppData\\Local\\Packages\\PythonSoftwareFoundation.Python.3.10_qbz5n2kfra8p0\\LocalCache\\local-packages\\Python310\\site-packages\\xgboost\\sklearn.py:861: UserWarning:\n",
      "\n",
      "`early_stopping_rounds` in `fit` method is deprecated for better compatibility with scikit-learn, use `early_stopping_rounds` in constructor or`set_params` instead.\n",
      "\n",
      "\u001b[32m[I 2022-12-14 19:30:37,362]\u001b[0m Trial 28 finished with value: 0.9746835443037974 and parameters: {'lambda': 4.62289367536116, 'alpha': 4.6133503982051485, 'colsample_bytree': 0.8082236999325982, 'subsample': 0.20652432770254348, 'learning_rate': 0.09208373170539554, 'n_estimators': 1054, 'max_depth': 5, 'min_child_weight': 2, 'num_parallel_tree': 1}. Best is trial 3 with value: 0.9746835443037974.\u001b[0m\n",
      "C:\\Users\\deepBlue\\AppData\\Local\\Packages\\PythonSoftwareFoundation.Python.3.10_qbz5n2kfra8p0\\LocalCache\\local-packages\\Python310\\site-packages\\xgboost\\sklearn.py:861: UserWarning:\n",
      "\n",
      "`early_stopping_rounds` in `fit` method is deprecated for better compatibility with scikit-learn, use `early_stopping_rounds` in constructor or`set_params` instead.\n",
      "\n",
      "\u001b[32m[I 2022-12-14 19:30:38,213]\u001b[0m Trial 29 finished with value: 0.9113924050632911 and parameters: {'lambda': 4.457447411893498, 'alpha': 4.928391845990578, 'colsample_bytree': 0.46763658218941395, 'subsample': 0.24115351750818914, 'learning_rate': 0.09551131235512973, 'n_estimators': 1156, 'max_depth': 7, 'min_child_weight': 8, 'num_parallel_tree': 1}. Best is trial 3 with value: 0.9746835443037974.\u001b[0m\n",
      "C:\\Users\\deepBlue\\AppData\\Local\\Packages\\PythonSoftwareFoundation.Python.3.10_qbz5n2kfra8p0\\LocalCache\\local-packages\\Python310\\site-packages\\xgboost\\sklearn.py:861: UserWarning:\n",
      "\n",
      "`early_stopping_rounds` in `fit` method is deprecated for better compatibility with scikit-learn, use `early_stopping_rounds` in constructor or`set_params` instead.\n",
      "\n",
      "\u001b[32m[I 2022-12-14 19:30:39,735]\u001b[0m Trial 30 finished with value: 0.9367088607594937 and parameters: {'lambda': 1.7058418746870156, 'alpha': 3.1916407008987147, 'colsample_bytree': 0.9415911994036219, 'subsample': 0.8096281482471186, 'learning_rate': 0.06707881474504171, 'n_estimators': 2157, 'max_depth': 10, 'min_child_weight': 1, 'num_parallel_tree': 1}. Best is trial 3 with value: 0.9746835443037974.\u001b[0m\n",
      "C:\\Users\\deepBlue\\AppData\\Local\\Packages\\PythonSoftwareFoundation.Python.3.10_qbz5n2kfra8p0\\LocalCache\\local-packages\\Python310\\site-packages\\xgboost\\sklearn.py:861: UserWarning:\n",
      "\n",
      "`early_stopping_rounds` in `fit` method is deprecated for better compatibility with scikit-learn, use `early_stopping_rounds` in constructor or`set_params` instead.\n",
      "\n",
      "\u001b[32m[I 2022-12-14 19:30:40,461]\u001b[0m Trial 31 finished with value: 0.8987341772151899 and parameters: {'lambda': 2.780534281640551, 'alpha': 5.409541304514914, 'colsample_bytree': 0.8189672344123708, 'subsample': 0.3023978403736588, 'learning_rate': 0.0870399882562395, 'n_estimators': 697, 'max_depth': 5, 'min_child_weight': 2, 'num_parallel_tree': 1}. Best is trial 3 with value: 0.9746835443037974.\u001b[0m\n",
      "C:\\Users\\deepBlue\\AppData\\Local\\Packages\\PythonSoftwareFoundation.Python.3.10_qbz5n2kfra8p0\\LocalCache\\local-packages\\Python310\\site-packages\\xgboost\\sklearn.py:861: UserWarning:\n",
      "\n",
      "`early_stopping_rounds` in `fit` method is deprecated for better compatibility with scikit-learn, use `early_stopping_rounds` in constructor or`set_params` instead.\n",
      "\n",
      "\u001b[32m[I 2022-12-14 19:30:41,178]\u001b[0m Trial 32 finished with value: 0.9493670886075949 and parameters: {'lambda': 5.848522680061035, 'alpha': 3.575062622364693, 'colsample_bytree': 0.8796067063607166, 'subsample': 0.20743664203215773, 'learning_rate': 0.0694093960058202, 'n_estimators': 1013, 'max_depth': 5, 'min_child_weight': 3, 'num_parallel_tree': 1}. Best is trial 3 with value: 0.9746835443037974.\u001b[0m\n",
      "C:\\Users\\deepBlue\\AppData\\Local\\Packages\\PythonSoftwareFoundation.Python.3.10_qbz5n2kfra8p0\\LocalCache\\local-packages\\Python310\\site-packages\\xgboost\\sklearn.py:861: UserWarning:\n",
      "\n",
      "`early_stopping_rounds` in `fit` method is deprecated for better compatibility with scikit-learn, use `early_stopping_rounds` in constructor or`set_params` instead.\n",
      "\n",
      "\u001b[32m[I 2022-12-14 19:30:41,458]\u001b[0m Trial 33 finished with value: 0.9493670886075949 and parameters: {'lambda': 4.058759115685559, 'alpha': 6.649889086219251, 'colsample_bytree': 0.7903772683684963, 'subsample': 0.5319554369504854, 'learning_rate': 0.09057019985617014, 'n_estimators': 376, 'max_depth': 8, 'min_child_weight': 2, 'num_parallel_tree': 1}. Best is trial 3 with value: 0.9746835443037974.\u001b[0m\n",
      "C:\\Users\\deepBlue\\AppData\\Local\\Packages\\PythonSoftwareFoundation.Python.3.10_qbz5n2kfra8p0\\LocalCache\\local-packages\\Python310\\site-packages\\xgboost\\sklearn.py:861: UserWarning:\n",
      "\n",
      "`early_stopping_rounds` in `fit` method is deprecated for better compatibility with scikit-learn, use `early_stopping_rounds` in constructor or`set_params` instead.\n",
      "\n",
      "\u001b[32m[I 2022-12-14 19:30:41,629]\u001b[0m Trial 34 finished with value: 0.9240506329113924 and parameters: {'lambda': 4.72506322289832, 'alpha': 4.440742759303115, 'colsample_bytree': 0.6666654658530992, 'subsample': 0.42062441799820216, 'learning_rate': 0.04967108708210312, 'n_estimators': 266, 'max_depth': 5, 'min_child_weight': 8, 'num_parallel_tree': 1}. Best is trial 3 with value: 0.9746835443037974.\u001b[0m\n",
      "C:\\Users\\deepBlue\\AppData\\Local\\Packages\\PythonSoftwareFoundation.Python.3.10_qbz5n2kfra8p0\\LocalCache\\local-packages\\Python310\\site-packages\\xgboost\\sklearn.py:861: UserWarning:\n",
      "\n",
      "`early_stopping_rounds` in `fit` method is deprecated for better compatibility with scikit-learn, use `early_stopping_rounds` in constructor or`set_params` instead.\n",
      "\n",
      "\u001b[32m[I 2022-12-14 19:30:42,352]\u001b[0m Trial 35 finished with value: 0.9240506329113924 and parameters: {'lambda': 8.13490327198196, 'alpha': 3.3115318200322075, 'colsample_bytree': 0.7137397790706731, 'subsample': 0.7083771742175687, 'learning_rate': 0.07641160963866084, 'n_estimators': 1362, 'max_depth': 9, 'min_child_weight': 1, 'num_parallel_tree': 1}. Best is trial 3 with value: 0.9746835443037974.\u001b[0m\n",
      "C:\\Users\\deepBlue\\AppData\\Local\\Packages\\PythonSoftwareFoundation.Python.3.10_qbz5n2kfra8p0\\LocalCache\\local-packages\\Python310\\site-packages\\xgboost\\sklearn.py:861: UserWarning:\n",
      "\n",
      "`early_stopping_rounds` in `fit` method is deprecated for better compatibility with scikit-learn, use `early_stopping_rounds` in constructor or`set_params` instead.\n",
      "\n",
      "\u001b[32m[I 2022-12-14 19:30:43,247]\u001b[0m Trial 36 finished with value: 0.8860759493670886 and parameters: {'lambda': 1.0591427053561155, 'alpha': 9.870114955395966, 'colsample_bytree': 0.9524718534862433, 'subsample': 0.5794209900661571, 'learning_rate': 0.0857650974265449, 'n_estimators': 1759, 'max_depth': 4, 'min_child_weight': 5, 'num_parallel_tree': 1}. Best is trial 3 with value: 0.9746835443037974.\u001b[0m\n",
      "C:\\Users\\deepBlue\\AppData\\Local\\Packages\\PythonSoftwareFoundation.Python.3.10_qbz5n2kfra8p0\\LocalCache\\local-packages\\Python310\\site-packages\\xgboost\\sklearn.py:861: UserWarning:\n",
      "\n",
      "`early_stopping_rounds` in `fit` method is deprecated for better compatibility with scikit-learn, use `early_stopping_rounds` in constructor or`set_params` instead.\n",
      "\n",
      "\u001b[32m[I 2022-12-14 19:30:43,775]\u001b[0m Trial 37 finished with value: 0.9240506329113924 and parameters: {'lambda': 2.0618531632513317, 'alpha': 2.1951383469288364, 'colsample_bytree': 0.6044506592171777, 'subsample': 0.3175098365924201, 'learning_rate': 0.09461408644978599, 'n_estimators': 574, 'max_depth': 8, 'min_child_weight': 6, 'num_parallel_tree': 1}. Best is trial 3 with value: 0.9746835443037974.\u001b[0m\n",
      "C:\\Users\\deepBlue\\AppData\\Local\\Packages\\PythonSoftwareFoundation.Python.3.10_qbz5n2kfra8p0\\LocalCache\\local-packages\\Python310\\site-packages\\xgboost\\sklearn.py:861: UserWarning:\n",
      "\n",
      "`early_stopping_rounds` in `fit` method is deprecated for better compatibility with scikit-learn, use `early_stopping_rounds` in constructor or`set_params` instead.\n",
      "\n",
      "\u001b[32m[I 2022-12-14 19:30:43,872]\u001b[0m Trial 38 finished with value: 0.9493670886075949 and parameters: {'lambda': 6.339196326790336, 'alpha': 3.6697027461240026, 'colsample_bytree': 0.8030192999117756, 'subsample': 0.5130151932834874, 'learning_rate': 0.06357021754558606, 'n_estimators': 114, 'max_depth': 6, 'min_child_weight': 2, 'num_parallel_tree': 1}. Best is trial 3 with value: 0.9746835443037974.\u001b[0m\n",
      "C:\\Users\\deepBlue\\AppData\\Local\\Packages\\PythonSoftwareFoundation.Python.3.10_qbz5n2kfra8p0\\LocalCache\\local-packages\\Python310\\site-packages\\xgboost\\sklearn.py:861: UserWarning:\n",
      "\n",
      "`early_stopping_rounds` in `fit` method is deprecated for better compatibility with scikit-learn, use `early_stopping_rounds` in constructor or`set_params` instead.\n",
      "\n",
      "\u001b[32m[I 2022-12-14 19:30:44,301]\u001b[0m Trial 39 finished with value: 0.8860759493670886 and parameters: {'lambda': 0.7362927461070148, 'alpha': 8.685676073238726, 'colsample_bytree': 0.7082622202358709, 'subsample': 0.9345364525305677, 'learning_rate': 0.08371719093281306, 'n_estimators': 824, 'max_depth': 2, 'min_child_weight': 1, 'num_parallel_tree': 1}. Best is trial 3 with value: 0.9746835443037974.\u001b[0m\n",
      "C:\\Users\\deepBlue\\AppData\\Local\\Packages\\PythonSoftwareFoundation.Python.3.10_qbz5n2kfra8p0\\LocalCache\\local-packages\\Python310\\site-packages\\xgboost\\sklearn.py:861: UserWarning:\n",
      "\n",
      "`early_stopping_rounds` in `fit` method is deprecated for better compatibility with scikit-learn, use `early_stopping_rounds` in constructor or`set_params` instead.\n",
      "\n",
      "\u001b[32m[I 2022-12-14 19:30:44,975]\u001b[0m Trial 40 finished with value: 0.9240506329113924 and parameters: {'lambda': 3.4802178929560084, 'alpha': 6.353186983749434, 'colsample_bytree': 0.8729330345700839, 'subsample': 0.45273048728357695, 'learning_rate': 0.07238490178168178, 'n_estimators': 1061, 'max_depth': 9, 'min_child_weight': 4, 'num_parallel_tree': 1}. Best is trial 3 with value: 0.9746835443037974.\u001b[0m\n",
      "C:\\Users\\deepBlue\\AppData\\Local\\Packages\\PythonSoftwareFoundation.Python.3.10_qbz5n2kfra8p0\\LocalCache\\local-packages\\Python310\\site-packages\\xgboost\\sklearn.py:861: UserWarning:\n",
      "\n",
      "`early_stopping_rounds` in `fit` method is deprecated for better compatibility with scikit-learn, use `early_stopping_rounds` in constructor or`set_params` instead.\n",
      "\n",
      "\u001b[32m[I 2022-12-14 19:30:45,774]\u001b[0m Trial 41 finished with value: 0.9620253164556962 and parameters: {'lambda': 0.19861516398004414, 'alpha': 3.9651153498260023, 'colsample_bytree': 0.9446185623835445, 'subsample': 0.6298541349529617, 'learning_rate': 0.07931656247737945, 'n_estimators': 953, 'max_depth': 4, 'min_child_weight': 1, 'num_parallel_tree': 1}. Best is trial 3 with value: 0.9746835443037974.\u001b[0m\n",
      "C:\\Users\\deepBlue\\AppData\\Local\\Packages\\PythonSoftwareFoundation.Python.3.10_qbz5n2kfra8p0\\LocalCache\\local-packages\\Python310\\site-packages\\xgboost\\sklearn.py:861: UserWarning:\n",
      "\n",
      "`early_stopping_rounds` in `fit` method is deprecated for better compatibility with scikit-learn, use `early_stopping_rounds` in constructor or`set_params` instead.\n",
      "\n",
      "\u001b[32m[I 2022-12-14 19:30:46,504]\u001b[0m Trial 42 finished with value: 0.8860759493670886 and parameters: {'lambda': 1.5291201705469, 'alpha': 5.343896137594063, 'colsample_bytree': 0.9969615614720568, 'subsample': 0.620039934283209, 'learning_rate': 0.08142011445628955, 'n_estimators': 1369, 'max_depth': 4, 'min_child_weight': 1, 'num_parallel_tree': 1}. Best is trial 3 with value: 0.9746835443037974.\u001b[0m\n",
      "C:\\Users\\deepBlue\\AppData\\Local\\Packages\\PythonSoftwareFoundation.Python.3.10_qbz5n2kfra8p0\\LocalCache\\local-packages\\Python310\\site-packages\\xgboost\\sklearn.py:861: UserWarning:\n",
      "\n",
      "`early_stopping_rounds` in `fit` method is deprecated for better compatibility with scikit-learn, use `early_stopping_rounds` in constructor or`set_params` instead.\n",
      "\n",
      "\u001b[32m[I 2022-12-14 19:30:47,201]\u001b[0m Trial 43 finished with value: 0.9367088607594937 and parameters: {'lambda': 0.6523151047320566, 'alpha': 4.376793658580005, 'colsample_bytree': 0.9150737235136085, 'subsample': 0.494825793831714, 'learning_rate': 0.05511390511044034, 'n_estimators': 845, 'max_depth': 4, 'min_child_weight': 3, 'num_parallel_tree': 1}. Best is trial 3 with value: 0.9746835443037974.\u001b[0m\n",
      "C:\\Users\\deepBlue\\AppData\\Local\\Packages\\PythonSoftwareFoundation.Python.3.10_qbz5n2kfra8p0\\LocalCache\\local-packages\\Python310\\site-packages\\xgboost\\sklearn.py:861: UserWarning:\n",
      "\n",
      "`early_stopping_rounds` in `fit` method is deprecated for better compatibility with scikit-learn, use `early_stopping_rounds` in constructor or`set_params` instead.\n",
      "\n",
      "\u001b[32m[I 2022-12-14 19:30:47,652]\u001b[0m Trial 44 finished with value: 0.9493670886075949 and parameters: {'lambda': 5.158348434438235, 'alpha': 2.9447474218198355, 'colsample_bytree': 0.9548440525447014, 'subsample': 0.44597801153637645, 'learning_rate': 0.043336452431566835, 'n_estimators': 440, 'max_depth': 7, 'min_child_weight': 2, 'num_parallel_tree': 1}. Best is trial 3 with value: 0.9746835443037974.\u001b[0m\n",
      "C:\\Users\\deepBlue\\AppData\\Local\\Packages\\PythonSoftwareFoundation.Python.3.10_qbz5n2kfra8p0\\LocalCache\\local-packages\\Python310\\site-packages\\xgboost\\sklearn.py:861: UserWarning:\n",
      "\n",
      "`early_stopping_rounds` in `fit` method is deprecated for better compatibility with scikit-learn, use `early_stopping_rounds` in constructor or`set_params` instead.\n",
      "\n",
      "\u001b[32m[I 2022-12-14 19:30:48,114]\u001b[0m Trial 45 finished with value: 0.9493670886075949 and parameters: {'lambda': 0.3969255863542054, 'alpha': 0.7153804080139876, 'colsample_bytree': 0.9436203992751335, 'subsample': 0.8143649211986624, 'learning_rate': 0.09048151223829444, 'n_estimators': 2632, 'max_depth': 3, 'min_child_weight': 8, 'num_parallel_tree': 1}. Best is trial 3 with value: 0.9746835443037974.\u001b[0m\n",
      "C:\\Users\\deepBlue\\AppData\\Local\\Packages\\PythonSoftwareFoundation.Python.3.10_qbz5n2kfra8p0\\LocalCache\\local-packages\\Python310\\site-packages\\xgboost\\sklearn.py:861: UserWarning:\n",
      "\n",
      "`early_stopping_rounds` in `fit` method is deprecated for better compatibility with scikit-learn, use `early_stopping_rounds` in constructor or`set_params` instead.\n",
      "\n",
      "\u001b[32m[I 2022-12-14 19:30:48,275]\u001b[0m Trial 46 finished with value: 0.9367088607594937 and parameters: {'lambda': 0.02216737701164448, 'alpha': 3.9866006688083644, 'colsample_bytree': 0.8652122358453596, 'subsample': 0.9060237343385567, 'learning_rate': 0.0997480891918695, 'n_estimators': 243, 'max_depth': 5, 'min_child_weight': 1, 'num_parallel_tree': 1}. Best is trial 3 with value: 0.9746835443037974.\u001b[0m\n",
      "C:\\Users\\deepBlue\\AppData\\Local\\Packages\\PythonSoftwareFoundation.Python.3.10_qbz5n2kfra8p0\\LocalCache\\local-packages\\Python310\\site-packages\\xgboost\\sklearn.py:861: UserWarning:\n",
      "\n",
      "`early_stopping_rounds` in `fit` method is deprecated for better compatibility with scikit-learn, use `early_stopping_rounds` in constructor or`set_params` instead.\n",
      "\n",
      "\u001b[32m[I 2022-12-14 19:30:48,605]\u001b[0m Trial 47 finished with value: 0.9367088607594937 and parameters: {'lambda': 1.4323188297172562, 'alpha': 5.712264018127755, 'colsample_bytree': 0.8194062148020149, 'subsample': 0.6291660286439263, 'learning_rate': 0.08778040333895086, 'n_estimators': 597, 'max_depth': 4, 'min_child_weight': 3, 'num_parallel_tree': 1}. Best is trial 3 with value: 0.9746835443037974.\u001b[0m\n",
      "C:\\Users\\deepBlue\\AppData\\Local\\Packages\\PythonSoftwareFoundation.Python.3.10_qbz5n2kfra8p0\\LocalCache\\local-packages\\Python310\\site-packages\\xgboost\\sklearn.py:861: UserWarning:\n",
      "\n",
      "`early_stopping_rounds` in `fit` method is deprecated for better compatibility with scikit-learn, use `early_stopping_rounds` in constructor or`set_params` instead.\n",
      "\n",
      "\u001b[32m[I 2022-12-14 19:30:49,602]\u001b[0m Trial 48 finished with value: 0.9367088607594937 and parameters: {'lambda': 2.15486982213541, 'alpha': 4.761390224175715, 'colsample_bytree': 0.7452700039117914, 'subsample': 0.3620305461115678, 'learning_rate': 0.07132263632830518, 'n_estimators': 1696, 'max_depth': 8, 'min_child_weight': 7, 'num_parallel_tree': 1}. Best is trial 3 with value: 0.9746835443037974.\u001b[0m\n",
      "C:\\Users\\deepBlue\\AppData\\Local\\Packages\\PythonSoftwareFoundation.Python.3.10_qbz5n2kfra8p0\\LocalCache\\local-packages\\Python310\\site-packages\\xgboost\\sklearn.py:861: UserWarning:\n",
      "\n",
      "`early_stopping_rounds` in `fit` method is deprecated for better compatibility with scikit-learn, use `early_stopping_rounds` in constructor or`set_params` instead.\n",
      "\n",
      "\u001b[32m[I 2022-12-14 19:30:50,238]\u001b[0m Trial 49 finished with value: 0.8987341772151899 and parameters: {'lambda': 9.97658982714717, 'alpha': 3.8988118136101138, 'colsample_bytree': 0.5078281641700689, 'subsample': 0.7992380805514387, 'learning_rate': 0.07623109182546861, 'n_estimators': 1989, 'max_depth': 5, 'min_child_weight': 1, 'num_parallel_tree': 1}. Best is trial 3 with value: 0.9746835443037974.\u001b[0m\n",
      "C:\\Users\\deepBlue\\AppData\\Local\\Packages\\PythonSoftwareFoundation.Python.3.10_qbz5n2kfra8p0\\LocalCache\\local-packages\\Python310\\site-packages\\xgboost\\sklearn.py:861: UserWarning:\n",
      "\n",
      "`early_stopping_rounds` in `fit` method is deprecated for better compatibility with scikit-learn, use `early_stopping_rounds` in constructor or`set_params` instead.\n",
      "\n",
      "\u001b[32m[I 2022-12-14 19:30:50,722]\u001b[0m Trial 50 finished with value: 0.9493670886075949 and parameters: {'lambda': 7.904898370719656, 'alpha': 2.1323470300206804, 'colsample_bytree': 0.9932065101717505, 'subsample': 0.7242244435973593, 'learning_rate': 0.06343355505075694, 'n_estimators': 768, 'max_depth': 4, 'min_child_weight': 2, 'num_parallel_tree': 1}. Best is trial 3 with value: 0.9746835443037974.\u001b[0m\n",
      "C:\\Users\\deepBlue\\AppData\\Local\\Packages\\PythonSoftwareFoundation.Python.3.10_qbz5n2kfra8p0\\LocalCache\\local-packages\\Python310\\site-packages\\xgboost\\sklearn.py:861: UserWarning:\n",
      "\n",
      "`early_stopping_rounds` in `fit` method is deprecated for better compatibility with scikit-learn, use `early_stopping_rounds` in constructor or`set_params` instead.\n",
      "\n",
      "\u001b[32m[I 2022-12-14 19:30:51,427]\u001b[0m Trial 51 finished with value: 0.9367088607594937 and parameters: {'lambda': 0.767463664222819, 'alpha': 4.595371372781886, 'colsample_bytree': 0.9539048684907008, 'subsample': 0.5650456497629593, 'learning_rate': 0.07895710031141273, 'n_estimators': 963, 'max_depth': 4, 'min_child_weight': 1, 'num_parallel_tree': 1}. Best is trial 3 with value: 0.9746835443037974.\u001b[0m\n",
      "C:\\Users\\deepBlue\\AppData\\Local\\Packages\\PythonSoftwareFoundation.Python.3.10_qbz5n2kfra8p0\\LocalCache\\local-packages\\Python310\\site-packages\\xgboost\\sklearn.py:861: UserWarning:\n",
      "\n",
      "`early_stopping_rounds` in `fit` method is deprecated for better compatibility with scikit-learn, use `early_stopping_rounds` in constructor or`set_params` instead.\n",
      "\n",
      "\u001b[32m[I 2022-12-14 19:30:51,930]\u001b[0m Trial 52 finished with value: 0.9240506329113924 and parameters: {'lambda': 0.35676020156937094, 'alpha': 4.153725850370423, 'colsample_bytree': 0.36288595384749645, 'subsample': 0.46775078043549534, 'learning_rate': 0.08350149711543502, 'n_estimators': 893, 'max_depth': 4, 'min_child_weight': 1, 'num_parallel_tree': 1}. Best is trial 3 with value: 0.9746835443037974.\u001b[0m\n",
      "C:\\Users\\deepBlue\\AppData\\Local\\Packages\\PythonSoftwareFoundation.Python.3.10_qbz5n2kfra8p0\\LocalCache\\local-packages\\Python310\\site-packages\\xgboost\\sklearn.py:861: UserWarning:\n",
      "\n",
      "`early_stopping_rounds` in `fit` method is deprecated for better compatibility with scikit-learn, use `early_stopping_rounds` in constructor or`set_params` instead.\n",
      "\n",
      "\u001b[32m[I 2022-12-14 19:30:52,863]\u001b[0m Trial 53 finished with value: 0.9113924050632911 and parameters: {'lambda': 0.9710594049432384, 'alpha': 5.27914621827585, 'colsample_bytree': 0.9181181691352048, 'subsample': 0.40646657837641365, 'learning_rate': 0.09386981984419356, 'n_estimators': 1192, 'max_depth': 2, 'min_child_weight': 2, 'num_parallel_tree': 1}. Best is trial 3 with value: 0.9746835443037974.\u001b[0m\n",
      "C:\\Users\\deepBlue\\AppData\\Local\\Packages\\PythonSoftwareFoundation.Python.3.10_qbz5n2kfra8p0\\LocalCache\\local-packages\\Python310\\site-packages\\xgboost\\sklearn.py:861: UserWarning:\n",
      "\n",
      "`early_stopping_rounds` in `fit` method is deprecated for better compatibility with scikit-learn, use `early_stopping_rounds` in constructor or`set_params` instead.\n",
      "\n",
      "\u001b[32m[I 2022-12-14 19:30:53,234]\u001b[0m Trial 54 finished with value: 0.9113924050632911 and parameters: {'lambda': 0.04447115991800288, 'alpha': 2.5910597058058453, 'colsample_bytree': 0.8874778749072754, 'subsample': 0.7710575678007974, 'learning_rate': 0.07112015662060411, 'n_estimators': 519, 'max_depth': 4, 'min_child_weight': 3, 'num_parallel_tree': 1}. Best is trial 3 with value: 0.9746835443037974.\u001b[0m\n",
      "C:\\Users\\deepBlue\\AppData\\Local\\Packages\\PythonSoftwareFoundation.Python.3.10_qbz5n2kfra8p0\\LocalCache\\local-packages\\Python310\\site-packages\\xgboost\\sklearn.py:861: UserWarning:\n",
      "\n",
      "`early_stopping_rounds` in `fit` method is deprecated for better compatibility with scikit-learn, use `early_stopping_rounds` in constructor or`set_params` instead.\n",
      "\n",
      "\u001b[32m[I 2022-12-14 19:30:53,836]\u001b[0m Trial 55 finished with value: 0.9367088607594937 and parameters: {'lambda': 2.670278531314438, 'alpha': 5.856359755406743, 'colsample_bytree': 0.9679267334168399, 'subsample': 0.9976884202343699, 'learning_rate': 0.07785239450020998, 'n_estimators': 728, 'max_depth': 6, 'min_child_weight': 2, 'num_parallel_tree': 1}. Best is trial 3 with value: 0.9746835443037974.\u001b[0m\n",
      "C:\\Users\\deepBlue\\AppData\\Local\\Packages\\PythonSoftwareFoundation.Python.3.10_qbz5n2kfra8p0\\LocalCache\\local-packages\\Python310\\site-packages\\xgboost\\sklearn.py:861: UserWarning:\n",
      "\n",
      "`early_stopping_rounds` in `fit` method is deprecated for better compatibility with scikit-learn, use `early_stopping_rounds` in constructor or`set_params` instead.\n",
      "\n",
      "\u001b[32m[I 2022-12-14 19:30:54,404]\u001b[0m Trial 56 finished with value: 0.9367088607594937 and parameters: {'lambda': 1.6561057205757692, 'alpha': 1.450506581281656, 'colsample_bytree': 0.8504860688172197, 'subsample': 0.5336515894825731, 'learning_rate': 0.0659740223671669, 'n_estimators': 1085, 'max_depth': 3, 'min_child_weight': 10, 'num_parallel_tree': 1}. Best is trial 3 with value: 0.9746835443037974.\u001b[0m\n",
      "C:\\Users\\deepBlue\\AppData\\Local\\Packages\\PythonSoftwareFoundation.Python.3.10_qbz5n2kfra8p0\\LocalCache\\local-packages\\Python310\\site-packages\\xgboost\\sklearn.py:861: UserWarning:\n",
      "\n",
      "`early_stopping_rounds` in `fit` method is deprecated for better compatibility with scikit-learn, use `early_stopping_rounds` in constructor or`set_params` instead.\n",
      "\n",
      "\u001b[32m[I 2022-12-14 19:30:55,373]\u001b[0m Trial 57 finished with value: 0.9113924050632911 and parameters: {'lambda': 9.344739227439675, 'alpha': 3.235247165298958, 'colsample_bytree': 0.9232049346793539, 'subsample': 0.3475915399127928, 'learning_rate': 0.06050834030905186, 'n_estimators': 1526, 'max_depth': 5, 'min_child_weight': 1, 'num_parallel_tree': 1}. Best is trial 3 with value: 0.9746835443037974.\u001b[0m\n",
      "C:\\Users\\deepBlue\\AppData\\Local\\Packages\\PythonSoftwareFoundation.Python.3.10_qbz5n2kfra8p0\\LocalCache\\local-packages\\Python310\\site-packages\\xgboost\\sklearn.py:861: UserWarning:\n",
      "\n",
      "`early_stopping_rounds` in `fit` method is deprecated for better compatibility with scikit-learn, use `early_stopping_rounds` in constructor or`set_params` instead.\n",
      "\n",
      "\u001b[32m[I 2022-12-14 19:30:55,739]\u001b[0m Trial 58 finished with value: 0.7088607594936709 and parameters: {'lambda': 6.719915271370888, 'alpha': 7.605591008937059, 'colsample_bytree': 0.24031376647041108, 'subsample': 0.2799712042055753, 'learning_rate': 0.026414705378085393, 'n_estimators': 365, 'max_depth': 10, 'min_child_weight': 9, 'num_parallel_tree': 1}. Best is trial 3 with value: 0.9746835443037974.\u001b[0m\n",
      "C:\\Users\\deepBlue\\AppData\\Local\\Packages\\PythonSoftwareFoundation.Python.3.10_qbz5n2kfra8p0\\LocalCache\\local-packages\\Python310\\site-packages\\xgboost\\sklearn.py:861: UserWarning:\n",
      "\n",
      "`early_stopping_rounds` in `fit` method is deprecated for better compatibility with scikit-learn, use `early_stopping_rounds` in constructor or`set_params` instead.\n",
      "\n",
      "\u001b[32m[I 2022-12-14 19:30:56,285]\u001b[0m Trial 59 finished with value: 0.8860759493670886 and parameters: {'lambda': 3.143953710732296, 'alpha': 5.1027054142361425, 'colsample_bytree': 0.6277007702741253, 'subsample': 0.6395151604987187, 'learning_rate': 0.08740858226926955, 'n_estimators': 905, 'max_depth': 8, 'min_child_weight': 5, 'num_parallel_tree': 1}. Best is trial 3 with value: 0.9746835443037974.\u001b[0m\n",
      "C:\\Users\\deepBlue\\AppData\\Local\\Packages\\PythonSoftwareFoundation.Python.3.10_qbz5n2kfra8p0\\LocalCache\\local-packages\\Python310\\site-packages\\xgboost\\sklearn.py:861: UserWarning:\n",
      "\n",
      "`early_stopping_rounds` in `fit` method is deprecated for better compatibility with scikit-learn, use `early_stopping_rounds` in constructor or`set_params` instead.\n",
      "\n",
      "\u001b[32m[I 2022-12-14 19:30:57,375]\u001b[0m Trial 60 finished with value: 0.9493670886075949 and parameters: {'lambda': 4.212176229751947, 'alpha': 3.6419626466900947, 'colsample_bytree': 0.7526757054592141, 'subsample': 0.8543604941743252, 'learning_rate': 0.09610281254668589, 'n_estimators': 1259, 'max_depth': 7, 'min_child_weight': 3, 'num_parallel_tree': 1}. Best is trial 3 with value: 0.9746835443037974.\u001b[0m\n",
      "C:\\Users\\deepBlue\\AppData\\Local\\Packages\\PythonSoftwareFoundation.Python.3.10_qbz5n2kfra8p0\\LocalCache\\local-packages\\Python310\\site-packages\\xgboost\\sklearn.py:861: UserWarning:\n",
      "\n",
      "`early_stopping_rounds` in `fit` method is deprecated for better compatibility with scikit-learn, use `early_stopping_rounds` in constructor or`set_params` instead.\n",
      "\n",
      "\u001b[32m[I 2022-12-14 19:30:57,952]\u001b[0m Trial 61 finished with value: 0.9113924050632911 and parameters: {'lambda': 0.4321636463523826, 'alpha': 0.427240068810427, 'colsample_bytree': 0.9381645930280076, 'subsample': 0.8760929085792812, 'learning_rate': 0.08985549551864064, 'n_estimators': 2648, 'max_depth': 3, 'min_child_weight': 8, 'num_parallel_tree': 1}. Best is trial 3 with value: 0.9746835443037974.\u001b[0m\n",
      "C:\\Users\\deepBlue\\AppData\\Local\\Packages\\PythonSoftwareFoundation.Python.3.10_qbz5n2kfra8p0\\LocalCache\\local-packages\\Python310\\site-packages\\xgboost\\sklearn.py:861: UserWarning:\n",
      "\n",
      "`early_stopping_rounds` in `fit` method is deprecated for better compatibility with scikit-learn, use `early_stopping_rounds` in constructor or`set_params` instead.\n",
      "\n",
      "\u001b[32m[I 2022-12-14 19:30:58,330]\u001b[0m Trial 62 finished with value: 0.8987341772151899 and parameters: {'lambda': 1.0893862252985427, 'alpha': 2.802310534672945, 'colsample_bytree': 0.9051173174458732, 'subsample': 0.6617518604522981, 'learning_rate': 0.08045092280183593, 'n_estimators': 658, 'max_depth': 6, 'min_child_weight': 2, 'num_parallel_tree': 1}. Best is trial 3 with value: 0.9746835443037974.\u001b[0m\n",
      "C:\\Users\\deepBlue\\AppData\\Local\\Packages\\PythonSoftwareFoundation.Python.3.10_qbz5n2kfra8p0\\LocalCache\\local-packages\\Python310\\site-packages\\xgboost\\sklearn.py:861: UserWarning:\n",
      "\n",
      "`early_stopping_rounds` in `fit` method is deprecated for better compatibility with scikit-learn, use `early_stopping_rounds` in constructor or`set_params` instead.\n",
      "\n",
      "\u001b[32m[I 2022-12-14 19:30:58,519]\u001b[0m Trial 63 finished with value: 0.9367088607594937 and parameters: {'lambda': 7.033446996130417, 'alpha': 3.7367087717456595, 'colsample_bytree': 0.7898930305560892, 'subsample': 0.5053559136256142, 'learning_rate': 0.06385055578398145, 'n_estimators': 178, 'max_depth': 6, 'min_child_weight': 2, 'num_parallel_tree': 1}. Best is trial 3 with value: 0.9746835443037974.\u001b[0m\n",
      "C:\\Users\\deepBlue\\AppData\\Local\\Packages\\PythonSoftwareFoundation.Python.3.10_qbz5n2kfra8p0\\LocalCache\\local-packages\\Python310\\site-packages\\xgboost\\sklearn.py:861: UserWarning:\n",
      "\n",
      "`early_stopping_rounds` in `fit` method is deprecated for better compatibility with scikit-learn, use `early_stopping_rounds` in constructor or`set_params` instead.\n",
      "\n",
      "\u001b[32m[I 2022-12-14 19:30:59,118]\u001b[0m Trial 64 finished with value: 0.9493670886075949 and parameters: {'lambda': 0.5240395665761165, 'alpha': 0.8199166298433971, 'colsample_bytree': 0.9717493865827822, 'subsample': 0.9539372081294923, 'learning_rate': 0.09070378941879445, 'n_estimators': 2700, 'max_depth': 3, 'min_child_weight': 8, 'num_parallel_tree': 1}. Best is trial 3 with value: 0.9746835443037974.\u001b[0m\n",
      "C:\\Users\\deepBlue\\AppData\\Local\\Packages\\PythonSoftwareFoundation.Python.3.10_qbz5n2kfra8p0\\LocalCache\\local-packages\\Python310\\site-packages\\xgboost\\sklearn.py:861: UserWarning:\n",
      "\n",
      "`early_stopping_rounds` in `fit` method is deprecated for better compatibility with scikit-learn, use `early_stopping_rounds` in constructor or`set_params` instead.\n",
      "\n",
      "\u001b[32m[I 2022-12-14 19:30:59,763]\u001b[0m Trial 65 finished with value: 0.9620253164556962 and parameters: {'lambda': 5.007631101769685, 'alpha': 3.331144192267878, 'colsample_bytree': 0.8783160363312826, 'subsample': 0.22817995066813612, 'learning_rate': 0.06794748366481367, 'n_estimators': 1044, 'max_depth': 5, 'min_child_weight': 3, 'num_parallel_tree': 1}. Best is trial 3 with value: 0.9746835443037974.\u001b[0m\n",
      "C:\\Users\\deepBlue\\AppData\\Local\\Packages\\PythonSoftwareFoundation.Python.3.10_qbz5n2kfra8p0\\LocalCache\\local-packages\\Python310\\site-packages\\xgboost\\sklearn.py:861: UserWarning:\n",
      "\n",
      "`early_stopping_rounds` in `fit` method is deprecated for better compatibility with scikit-learn, use `early_stopping_rounds` in constructor or`set_params` instead.\n",
      "\n",
      "\u001b[32m[I 2022-12-14 19:31:00,718]\u001b[0m Trial 66 finished with value: 0.9240506329113924 and parameters: {'lambda': 3.6983246805581342, 'alpha': 4.241400034500648, 'colsample_bytree': 0.5696640681322253, 'subsample': 0.2368137720975212, 'learning_rate': 0.056700995685931316, 'n_estimators': 1470, 'max_depth': 5, 'min_child_weight': 1, 'num_parallel_tree': 1}. Best is trial 3 with value: 0.9746835443037974.\u001b[0m\n",
      "C:\\Users\\deepBlue\\AppData\\Local\\Packages\\PythonSoftwareFoundation.Python.3.10_qbz5n2kfra8p0\\LocalCache\\local-packages\\Python310\\site-packages\\xgboost\\sklearn.py:861: UserWarning:\n",
      "\n",
      "`early_stopping_rounds` in `fit` method is deprecated for better compatibility with scikit-learn, use `early_stopping_rounds` in constructor or`set_params` instead.\n",
      "\n",
      "\u001b[32m[I 2022-12-14 19:31:02,294]\u001b[0m Trial 67 finished with value: 0.9493670886075949 and parameters: {'lambda': 5.537376718234634, 'alpha': 1.8668176639314913, 'colsample_bytree': 0.8451985367468142, 'subsample': 0.22867107649479684, 'learning_rate': 0.07369512549149582, 'n_estimators': 2159, 'max_depth': 5, 'min_child_weight': 1, 'num_parallel_tree': 1}. Best is trial 3 with value: 0.9746835443037974.\u001b[0m\n",
      "C:\\Users\\deepBlue\\AppData\\Local\\Packages\\PythonSoftwareFoundation.Python.3.10_qbz5n2kfra8p0\\LocalCache\\local-packages\\Python310\\site-packages\\xgboost\\sklearn.py:861: UserWarning:\n",
      "\n",
      "`early_stopping_rounds` in `fit` method is deprecated for better compatibility with scikit-learn, use `early_stopping_rounds` in constructor or`set_params` instead.\n",
      "\n",
      "\u001b[32m[I 2022-12-14 19:31:03,247]\u001b[0m Trial 68 finished with value: 0.9113924050632911 and parameters: {'lambda': 7.620704583182203, 'alpha': 4.720568837891392, 'colsample_bytree': 0.8906155616461426, 'subsample': 0.2022226884429298, 'learning_rate': 0.051732506685295054, 'n_estimators': 1269, 'max_depth': 5, 'min_child_weight': 3, 'num_parallel_tree': 1}. Best is trial 3 with value: 0.9746835443037974.\u001b[0m\n",
      "C:\\Users\\deepBlue\\AppData\\Local\\Packages\\PythonSoftwareFoundation.Python.3.10_qbz5n2kfra8p0\\LocalCache\\local-packages\\Python310\\site-packages\\xgboost\\sklearn.py:861: UserWarning:\n",
      "\n",
      "`early_stopping_rounds` in `fit` method is deprecated for better compatibility with scikit-learn, use `early_stopping_rounds` in constructor or`set_params` instead.\n",
      "\n",
      "\u001b[32m[I 2022-12-14 19:31:04,131]\u001b[0m Trial 69 finished with value: 0.9746835443037974 and parameters: {'lambda': 1.9415975537292067, 'alpha': 6.162782162570855, 'colsample_bytree': 0.831468335744092, 'subsample': 0.5939205231305162, 'learning_rate': 0.06775061001691562, 'n_estimators': 1080, 'max_depth': 4, 'min_child_weight': 2, 'num_parallel_tree': 1}. Best is trial 3 with value: 0.9746835443037974.\u001b[0m\n",
      "C:\\Users\\deepBlue\\AppData\\Local\\Packages\\PythonSoftwareFoundation.Python.3.10_qbz5n2kfra8p0\\LocalCache\\local-packages\\Python310\\site-packages\\xgboost\\sklearn.py:861: UserWarning:\n",
      "\n",
      "`early_stopping_rounds` in `fit` method is deprecated for better compatibility with scikit-learn, use `early_stopping_rounds` in constructor or`set_params` instead.\n",
      "\n",
      "\u001b[32m[I 2022-12-14 19:31:05,380]\u001b[0m Trial 70 finished with value: 0.8987341772151899 and parameters: {'lambda': 1.8585615869275076, 'alpha': 6.413141079355218, 'colsample_bytree': 0.8249149973327501, 'subsample': 0.5824470156986248, 'learning_rate': 0.07439287952911766, 'n_estimators': 1863, 'max_depth': 4, 'min_child_weight': 7, 'num_parallel_tree': 1}. Best is trial 3 with value: 0.9746835443037974.\u001b[0m\n",
      "C:\\Users\\deepBlue\\AppData\\Local\\Packages\\PythonSoftwareFoundation.Python.3.10_qbz5n2kfra8p0\\LocalCache\\local-packages\\Python310\\site-packages\\xgboost\\sklearn.py:861: UserWarning:\n",
      "\n",
      "`early_stopping_rounds` in `fit` method is deprecated for better compatibility with scikit-learn, use `early_stopping_rounds` in constructor or`set_params` instead.\n",
      "\n",
      "\u001b[32m[I 2022-12-14 19:31:06,280]\u001b[0m Trial 71 finished with value: 0.9367088607594937 and parameters: {'lambda': 2.235824054880608, 'alpha': 5.612854319321323, 'colsample_bytree': 0.9771500086263658, 'subsample': 0.7006106104908381, 'learning_rate': 0.06852437458055288, 'n_estimators': 995, 'max_depth': 4, 'min_child_weight': 2, 'num_parallel_tree': 1}. Best is trial 3 with value: 0.9746835443037974.\u001b[0m\n",
      "C:\\Users\\deepBlue\\AppData\\Local\\Packages\\PythonSoftwareFoundation.Python.3.10_qbz5n2kfra8p0\\LocalCache\\local-packages\\Python310\\site-packages\\xgboost\\sklearn.py:861: UserWarning:\n",
      "\n",
      "`early_stopping_rounds` in `fit` method is deprecated for better compatibility with scikit-learn, use `early_stopping_rounds` in constructor or`set_params` instead.\n",
      "\n",
      "\u001b[32m[I 2022-12-14 19:31:07,098]\u001b[0m Trial 72 finished with value: 0.9367088607594937 and parameters: {'lambda': 8.988107747448854, 'alpha': 6.022264337650676, 'colsample_bytree': 0.6851135628428272, 'subsample': 0.26098603325862324, 'learning_rate': 0.06605140733382356, 'n_estimators': 1074, 'max_depth': 4, 'min_child_weight': 1, 'num_parallel_tree': 1}. Best is trial 3 with value: 0.9746835443037974.\u001b[0m\n",
      "C:\\Users\\deepBlue\\AppData\\Local\\Packages\\PythonSoftwareFoundation.Python.3.10_qbz5n2kfra8p0\\LocalCache\\local-packages\\Python310\\site-packages\\xgboost\\sklearn.py:861: UserWarning:\n",
      "\n",
      "`early_stopping_rounds` in `fit` method is deprecated for better compatibility with scikit-learn, use `early_stopping_rounds` in constructor or`set_params` instead.\n",
      "\n",
      "\u001b[32m[I 2022-12-14 19:31:07,719]\u001b[0m Trial 73 finished with value: 0.9367088607594937 and parameters: {'lambda': 5.951682131878694, 'alpha': 7.118547708018885, 'colsample_bytree': 0.8747694347807011, 'subsample': 0.5957371988318906, 'learning_rate': 0.060428841315792695, 'n_estimators': 1141, 'max_depth': 9, 'min_child_weight': 2, 'num_parallel_tree': 1}. Best is trial 3 with value: 0.9746835443037974.\u001b[0m\n",
      "C:\\Users\\deepBlue\\AppData\\Local\\Packages\\PythonSoftwareFoundation.Python.3.10_qbz5n2kfra8p0\\LocalCache\\local-packages\\Python310\\site-packages\\xgboost\\sklearn.py:861: UserWarning:\n",
      "\n",
      "`early_stopping_rounds` in `fit` method is deprecated for better compatibility with scikit-learn, use `early_stopping_rounds` in constructor or`set_params` instead.\n",
      "\n",
      "\u001b[32m[I 2022-12-14 19:31:08,483]\u001b[0m Trial 74 finished with value: 0.9113924050632911 and parameters: {'lambda': 4.806935405812182, 'alpha': 5.049383676131526, 'colsample_bytree': 0.928171909294843, 'subsample': 0.5190984096014919, 'learning_rate': 0.07018348265184451, 'n_estimators': 914, 'max_depth': 5, 'min_child_weight': 4, 'num_parallel_tree': 1}. Best is trial 3 with value: 0.9746835443037974.\u001b[0m\n",
      "C:\\Users\\deepBlue\\AppData\\Local\\Packages\\PythonSoftwareFoundation.Python.3.10_qbz5n2kfra8p0\\LocalCache\\local-packages\\Python310\\site-packages\\xgboost\\sklearn.py:861: UserWarning:\n",
      "\n",
      "`early_stopping_rounds` in `fit` method is deprecated for better compatibility with scikit-learn, use `early_stopping_rounds` in constructor or`set_params` instead.\n",
      "\n",
      "\u001b[32m[I 2022-12-14 19:31:10,176]\u001b[0m Trial 75 finished with value: 0.9367088607594937 and parameters: {'lambda': 1.460755950272675, 'alpha': 3.4366078787485104, 'colsample_bytree': 0.9971803957900662, 'subsample': 0.5608780709650493, 'learning_rate': 0.08319867720134415, 'n_estimators': 2996, 'max_depth': 4, 'min_child_weight': 3, 'num_parallel_tree': 1}. Best is trial 3 with value: 0.9746835443037974.\u001b[0m\n",
      "C:\\Users\\deepBlue\\AppData\\Local\\Packages\\PythonSoftwareFoundation.Python.3.10_qbz5n2kfra8p0\\LocalCache\\local-packages\\Python310\\site-packages\\xgboost\\sklearn.py:861: UserWarning:\n",
      "\n",
      "`early_stopping_rounds` in `fit` method is deprecated for better compatibility with scikit-learn, use `early_stopping_rounds` in constructor or`set_params` instead.\n",
      "\n",
      "\u001b[32m[I 2022-12-14 19:31:10,540]\u001b[0m Trial 76 finished with value: 0.9240506329113924 and parameters: {'lambda': 1.2922162386862306, 'alpha': 2.485320378600641, 'colsample_bytree': 0.7916634594598077, 'subsample': 0.29188116234233696, 'learning_rate': 0.04640012082497649, 'n_estimators': 300, 'max_depth': 8, 'min_child_weight': 2, 'num_parallel_tree': 1}. Best is trial 3 with value: 0.9746835443037974.\u001b[0m\n",
      "C:\\Users\\deepBlue\\AppData\\Local\\Packages\\PythonSoftwareFoundation.Python.3.10_qbz5n2kfra8p0\\LocalCache\\local-packages\\Python310\\site-packages\\xgboost\\sklearn.py:861: UserWarning:\n",
      "\n",
      "`early_stopping_rounds` in `fit` method is deprecated for better compatibility with scikit-learn, use `early_stopping_rounds` in constructor or`set_params` instead.\n",
      "\n",
      "\u001b[32m[I 2022-12-14 19:31:10,837]\u001b[0m Trial 77 finished with value: 0.9113924050632911 and parameters: {'lambda': 0.8973684955263879, 'alpha': 2.9074683125949683, 'colsample_bytree': 0.8623067679520962, 'subsample': 0.33341593946538584, 'learning_rate': 0.09662170542097813, 'n_estimators': 539, 'max_depth': 5, 'min_child_weight': 6, 'num_parallel_tree': 1}. Best is trial 3 with value: 0.9746835443037974.\u001b[0m\n",
      "C:\\Users\\deepBlue\\AppData\\Local\\Packages\\PythonSoftwareFoundation.Python.3.10_qbz5n2kfra8p0\\LocalCache\\local-packages\\Python310\\site-packages\\xgboost\\sklearn.py:861: UserWarning:\n",
      "\n",
      "`early_stopping_rounds` in `fit` method is deprecated for better compatibility with scikit-learn, use `early_stopping_rounds` in constructor or`set_params` instead.\n",
      "\n",
      "\u001b[32m[I 2022-12-14 19:31:12,091]\u001b[0m Trial 78 finished with value: 0.9367088607594937 and parameters: {'lambda': 2.6480086344774527, 'alpha': 3.94569013325819, 'colsample_bytree': 0.8984305534454022, 'subsample': 0.3892590454952508, 'learning_rate': 0.07764181823158753, 'n_estimators': 2491, 'max_depth': 4, 'min_child_weight': 1, 'num_parallel_tree': 1}. Best is trial 3 with value: 0.9746835443037974.\u001b[0m\n",
      "C:\\Users\\deepBlue\\AppData\\Local\\Packages\\PythonSoftwareFoundation.Python.3.10_qbz5n2kfra8p0\\LocalCache\\local-packages\\Python310\\site-packages\\xgboost\\sklearn.py:861: UserWarning:\n",
      "\n",
      "`early_stopping_rounds` in `fit` method is deprecated for better compatibility with scikit-learn, use `early_stopping_rounds` in constructor or`set_params` instead.\n",
      "\n",
      "\u001b[32m[I 2022-12-14 19:31:13,204]\u001b[0m Trial 79 finished with value: 0.9620253164556962 and parameters: {'lambda': 1.894358140712837, 'alpha': 4.499609544797904, 'colsample_bytree': 0.8396913994485671, 'subsample': 0.44200804623062506, 'learning_rate': 0.07301728783721487, 'n_estimators': 1300, 'max_depth': 10, 'min_child_weight': 2, 'num_parallel_tree': 1}. Best is trial 3 with value: 0.9746835443037974.\u001b[0m\n",
      "C:\\Users\\deepBlue\\AppData\\Local\\Packages\\PythonSoftwareFoundation.Python.3.10_qbz5n2kfra8p0\\LocalCache\\local-packages\\Python310\\site-packages\\xgboost\\sklearn.py:861: UserWarning:\n",
      "\n",
      "`early_stopping_rounds` in `fit` method is deprecated for better compatibility with scikit-learn, use `early_stopping_rounds` in constructor or`set_params` instead.\n",
      "\n",
      "\u001b[32m[I 2022-12-14 19:31:14,288]\u001b[0m Trial 80 finished with value: 0.8354430379746836 and parameters: {'lambda': 2.927474344726023, 'alpha': 9.442535984476203, 'colsample_bytree': 0.7328262969437878, 'subsample': 0.4336817421072096, 'learning_rate': 0.00829594482618276, 'n_estimators': 1328, 'max_depth': 10, 'min_child_weight': 3, 'num_parallel_tree': 1}. Best is trial 3 with value: 0.9746835443037974.\u001b[0m\n",
      "C:\\Users\\deepBlue\\AppData\\Local\\Packages\\PythonSoftwareFoundation.Python.3.10_qbz5n2kfra8p0\\LocalCache\\local-packages\\Python310\\site-packages\\xgboost\\sklearn.py:861: UserWarning:\n",
      "\n",
      "`early_stopping_rounds` in `fit` method is deprecated for better compatibility with scikit-learn, use `early_stopping_rounds` in constructor or`set_params` instead.\n",
      "\n",
      "\u001b[32m[I 2022-12-14 19:31:15,267]\u001b[0m Trial 81 finished with value: 0.9367088607594937 and parameters: {'lambda': 1.9350650489315135, 'alpha': 4.604928327467567, 'colsample_bytree': 0.8329892536726258, 'subsample': 0.48090946171135124, 'learning_rate': 0.0733002247988887, 'n_estimators': 1098, 'max_depth': 10, 'min_child_weight': 2, 'num_parallel_tree': 1}. Best is trial 3 with value: 0.9746835443037974.\u001b[0m\n",
      "C:\\Users\\deepBlue\\AppData\\Local\\Packages\\PythonSoftwareFoundation.Python.3.10_qbz5n2kfra8p0\\LocalCache\\local-packages\\Python310\\site-packages\\xgboost\\sklearn.py:861: UserWarning:\n",
      "\n",
      "`early_stopping_rounds` in `fit` method is deprecated for better compatibility with scikit-learn, use `early_stopping_rounds` in constructor or`set_params` instead.\n",
      "\n",
      "\u001b[32m[I 2022-12-14 19:31:16,260]\u001b[0m Trial 82 finished with value: 0.9240506329113924 and parameters: {'lambda': 2.460425901842907, 'alpha': 6.3037529424505205, 'colsample_bytree': 0.7749974867013762, 'subsample': 0.45846228307668047, 'learning_rate': 0.0689689087633867, 'n_estimators': 1443, 'max_depth': 10, 'min_child_weight': 1, 'num_parallel_tree': 1}. Best is trial 3 with value: 0.9746835443037974.\u001b[0m\n",
      "C:\\Users\\deepBlue\\AppData\\Local\\Packages\\PythonSoftwareFoundation.Python.3.10_qbz5n2kfra8p0\\LocalCache\\local-packages\\Python310\\site-packages\\xgboost\\sklearn.py:861: UserWarning:\n",
      "\n",
      "`early_stopping_rounds` in `fit` method is deprecated for better compatibility with scikit-learn, use `early_stopping_rounds` in constructor or`set_params` instead.\n",
      "\n",
      "\u001b[32m[I 2022-12-14 19:31:17,632]\u001b[0m Trial 83 finished with value: 0.9113924050632911 and parameters: {'lambda': 3.4856556726826122, 'alpha': 4.888867730096776, 'colsample_bytree': 0.9690683253515061, 'subsample': 0.541138992181301, 'learning_rate': 0.0856201995503096, 'n_estimators': 1655, 'max_depth': 4, 'min_child_weight': 2, 'num_parallel_tree': 1}. Best is trial 3 with value: 0.9746835443037974.\u001b[0m\n",
      "C:\\Users\\deepBlue\\AppData\\Local\\Packages\\PythonSoftwareFoundation.Python.3.10_qbz5n2kfra8p0\\LocalCache\\local-packages\\Python310\\site-packages\\xgboost\\sklearn.py:861: UserWarning:\n",
      "\n",
      "`early_stopping_rounds` in `fit` method is deprecated for better compatibility with scikit-learn, use `early_stopping_rounds` in constructor or`set_params` instead.\n",
      "\n",
      "\u001b[32m[I 2022-12-14 19:31:18,620]\u001b[0m Trial 84 finished with value: 0.9240506329113924 and parameters: {'lambda': 1.197935131632481, 'alpha': 4.429269416205929, 'colsample_bytree': 0.41009734151124605, 'subsample': 0.26326224429447165, 'learning_rate': 0.07572554388099326, 'n_estimators': 1201, 'max_depth': 2, 'min_child_weight': 2, 'num_parallel_tree': 1}. Best is trial 3 with value: 0.9746835443037974.\u001b[0m\n",
      "C:\\Users\\deepBlue\\AppData\\Local\\Packages\\PythonSoftwareFoundation.Python.3.10_qbz5n2kfra8p0\\LocalCache\\local-packages\\Python310\\site-packages\\xgboost\\sklearn.py:861: UserWarning:\n",
      "\n",
      "`early_stopping_rounds` in `fit` method is deprecated for better compatibility with scikit-learn, use `early_stopping_rounds` in constructor or`set_params` instead.\n",
      "\n",
      "\u001b[32m[I 2022-12-14 19:31:19,450]\u001b[0m Trial 85 finished with value: 0.9113924050632911 and parameters: {'lambda': 0.2700026488249832, 'alpha': 6.720919035073508, 'colsample_bytree': 0.9381124479317515, 'subsample': 0.3888728700131856, 'learning_rate': 0.06474749073578687, 'n_estimators': 813, 'max_depth': 5, 'min_child_weight': 1, 'num_parallel_tree': 1}. Best is trial 3 with value: 0.9746835443037974.\u001b[0m\n",
      "C:\\Users\\deepBlue\\AppData\\Local\\Packages\\PythonSoftwareFoundation.Python.3.10_qbz5n2kfra8p0\\LocalCache\\local-packages\\Python310\\site-packages\\xgboost\\sklearn.py:861: UserWarning:\n",
      "\n",
      "`early_stopping_rounds` in `fit` method is deprecated for better compatibility with scikit-learn, use `early_stopping_rounds` in constructor or`set_params` instead.\n",
      "\n",
      "\u001b[32m[I 2022-12-14 19:31:19,976]\u001b[0m Trial 86 finished with value: 0.9493670886075949 and parameters: {'lambda': 0.6030999624630784, 'alpha': 3.1304830656138356, 'colsample_bytree': 0.8076467719046911, 'subsample': 0.49145947308336607, 'learning_rate': 0.08065767705811205, 'n_estimators': 970, 'max_depth': 8, 'min_child_weight': 1, 'num_parallel_tree': 1}. Best is trial 3 with value: 0.9746835443037974.\u001b[0m\n",
      "C:\\Users\\deepBlue\\AppData\\Local\\Packages\\PythonSoftwareFoundation.Python.3.10_qbz5n2kfra8p0\\LocalCache\\local-packages\\Python310\\site-packages\\xgboost\\sklearn.py:861: UserWarning:\n",
      "\n",
      "`early_stopping_rounds` in `fit` method is deprecated for better compatibility with scikit-learn, use `early_stopping_rounds` in constructor or`set_params` instead.\n",
      "\n",
      "\u001b[32m[I 2022-12-14 19:31:20,513]\u001b[0m Trial 87 finished with value: 0.9493670886075949 and parameters: {'lambda': 4.517670207295873, 'alpha': 5.222616013783318, 'colsample_bytree': 0.8586873619099868, 'subsample': 0.6070262765426014, 'learning_rate': 0.062196228714479815, 'n_estimators': 704, 'max_depth': 10, 'min_child_weight': 3, 'num_parallel_tree': 1}. Best is trial 3 with value: 0.9746835443037974.\u001b[0m\n",
      "C:\\Users\\deepBlue\\AppData\\Local\\Packages\\PythonSoftwareFoundation.Python.3.10_qbz5n2kfra8p0\\LocalCache\\local-packages\\Python310\\site-packages\\xgboost\\sklearn.py:861: UserWarning:\n",
      "\n",
      "`early_stopping_rounds` in `fit` method is deprecated for better compatibility with scikit-learn, use `early_stopping_rounds` in constructor or`set_params` instead.\n",
      "\n",
      "\u001b[32m[I 2022-12-14 19:31:21,161]\u001b[0m Trial 88 finished with value: 0.9367088607594937 and parameters: {'lambda': 8.598329973964905, 'alpha': 4.119162590567729, 'colsample_bytree': 0.8917595567290257, 'subsample': 0.5537942675597232, 'learning_rate': 0.05811044521662256, 'n_estimators': 1037, 'max_depth': 4, 'min_child_weight': 2, 'num_parallel_tree': 1}. Best is trial 3 with value: 0.9746835443037974.\u001b[0m\n",
      "C:\\Users\\deepBlue\\AppData\\Local\\Packages\\PythonSoftwareFoundation.Python.3.10_qbz5n2kfra8p0\\LocalCache\\local-packages\\Python310\\site-packages\\xgboost\\sklearn.py:861: UserWarning:\n",
      "\n",
      "`early_stopping_rounds` in `fit` method is deprecated for better compatibility with scikit-learn, use `early_stopping_rounds` in constructor or`set_params` instead.\n",
      "\n",
      "\u001b[32m[I 2022-12-14 19:31:22,119]\u001b[0m Trial 89 finished with value: 0.8987341772151899 and parameters: {'lambda': 1.6789544825156364, 'alpha': 5.489895781300957, 'colsample_bytree': 0.9588789224392873, 'subsample': 0.22105051263970144, 'learning_rate': 0.06740803700948501, 'n_estimators': 1287, 'max_depth': 7, 'min_child_weight': 1, 'num_parallel_tree': 1}. Best is trial 3 with value: 0.9746835443037974.\u001b[0m\n",
      "C:\\Users\\deepBlue\\AppData\\Local\\Packages\\PythonSoftwareFoundation.Python.3.10_qbz5n2kfra8p0\\LocalCache\\local-packages\\Python310\\site-packages\\xgboost\\sklearn.py:861: UserWarning:\n",
      "\n",
      "`early_stopping_rounds` in `fit` method is deprecated for better compatibility with scikit-learn, use `early_stopping_rounds` in constructor or`set_params` instead.\n",
      "\n",
      "\u001b[32m[I 2022-12-14 19:31:23,200]\u001b[0m Trial 90 finished with value: 0.8987341772151899 and parameters: {'lambda': 0.7571949438661971, 'alpha': 3.4737333010392426, 'colsample_bytree': 0.6854059583092492, 'subsample': 0.6469424742119955, 'learning_rate': 0.07101778497634567, 'n_estimators': 1140, 'max_depth': 5, 'min_child_weight': 2, 'num_parallel_tree': 1}. Best is trial 3 with value: 0.9746835443037974.\u001b[0m\n",
      "C:\\Users\\deepBlue\\AppData\\Local\\Packages\\PythonSoftwareFoundation.Python.3.10_qbz5n2kfra8p0\\LocalCache\\local-packages\\Python310\\site-packages\\xgboost\\sklearn.py:861: UserWarning:\n",
      "\n",
      "`early_stopping_rounds` in `fit` method is deprecated for better compatibility with scikit-learn, use `early_stopping_rounds` in constructor or`set_params` instead.\n",
      "\n",
      "\u001b[32m[I 2022-12-14 19:31:24,234]\u001b[0m Trial 91 finished with value: 0.9493670886075949 and parameters: {'lambda': 0.33725616054479257, 'alpha': 1.3434726082472581, 'colsample_bytree': 0.932129436384921, 'subsample': 0.8491343440507509, 'learning_rate': 0.09766249017943274, 'n_estimators': 2128, 'max_depth': 3, 'min_child_weight': 7, 'num_parallel_tree': 1}. Best is trial 3 with value: 0.9746835443037974.\u001b[0m\n",
      "C:\\Users\\deepBlue\\AppData\\Local\\Packages\\PythonSoftwareFoundation.Python.3.10_qbz5n2kfra8p0\\LocalCache\\local-packages\\Python310\\site-packages\\xgboost\\sklearn.py:861: UserWarning:\n",
      "\n",
      "`early_stopping_rounds` in `fit` method is deprecated for better compatibility with scikit-learn, use `early_stopping_rounds` in constructor or`set_params` instead.\n",
      "\n",
      "\u001b[32m[I 2022-12-14 19:31:25,068]\u001b[0m Trial 92 finished with value: 0.9113924050632911 and parameters: {'lambda': 5.954625712087202, 'alpha': 3.7112894753098256, 'colsample_bytree': 0.8806587692874686, 'subsample': 0.25466130138157733, 'learning_rate': 0.07242390268806694, 'n_estimators': 870, 'max_depth': 5, 'min_child_weight': 3, 'num_parallel_tree': 1}. Best is trial 3 with value: 0.9746835443037974.\u001b[0m\n",
      "C:\\Users\\deepBlue\\AppData\\Local\\Packages\\PythonSoftwareFoundation.Python.3.10_qbz5n2kfra8p0\\LocalCache\\local-packages\\Python310\\site-packages\\xgboost\\sklearn.py:861: UserWarning:\n",
      "\n",
      "`early_stopping_rounds` in `fit` method is deprecated for better compatibility with scikit-learn, use `early_stopping_rounds` in constructor or`set_params` instead.\n",
      "\n",
      "\u001b[32m[I 2022-12-14 19:31:25,300]\u001b[0m Trial 93 finished with value: 0.8734177215189873 and parameters: {'lambda': 2.2215329026651784, 'alpha': 0.6976771432829288, 'colsample_bytree': 0.9859386602477903, 'subsample': 0.7428938008884156, 'learning_rate': 0.05380962062316624, 'n_estimators': 334, 'max_depth': 5, 'min_child_weight': 4, 'num_parallel_tree': 1}. Best is trial 3 with value: 0.9746835443037974.\u001b[0m\n",
      "C:\\Users\\deepBlue\\AppData\\Local\\Packages\\PythonSoftwareFoundation.Python.3.10_qbz5n2kfra8p0\\LocalCache\\local-packages\\Python310\\site-packages\\xgboost\\sklearn.py:861: UserWarning:\n",
      "\n",
      "`early_stopping_rounds` in `fit` method is deprecated for better compatibility with scikit-learn, use `early_stopping_rounds` in constructor or`set_params` instead.\n",
      "\n",
      "\u001b[32m[I 2022-12-14 19:31:25,836]\u001b[0m Trial 94 finished with value: 0.9493670886075949 and parameters: {'lambda': 3.9859557196192306, 'alpha': 3.8135944710370646, 'colsample_bytree': 0.7517180147290284, 'subsample': 0.9174670070722485, 'learning_rate': 0.09541064511317893, 'n_estimators': 1229, 'max_depth': 7, 'min_child_weight': 3, 'num_parallel_tree': 1}. Best is trial 3 with value: 0.9746835443037974.\u001b[0m\n",
      "C:\\Users\\deepBlue\\AppData\\Local\\Packages\\PythonSoftwareFoundation.Python.3.10_qbz5n2kfra8p0\\LocalCache\\local-packages\\Python310\\site-packages\\xgboost\\sklearn.py:861: UserWarning:\n",
      "\n",
      "`early_stopping_rounds` in `fit` method is deprecated for better compatibility with scikit-learn, use `early_stopping_rounds` in constructor or`set_params` instead.\n",
      "\n",
      "\u001b[32m[I 2022-12-14 19:31:25,963]\u001b[0m Trial 95 finished with value: 0.9367088607594937 and parameters: {'lambda': 4.288215762683004, 'alpha': 6.795984840911836, 'colsample_bytree': 0.8362029236508589, 'subsample': 0.5266956987492827, 'learning_rate': 0.09352765550981915, 'n_estimators': 177, 'max_depth': 8, 'min_child_weight': 2, 'num_parallel_tree': 1}. Best is trial 3 with value: 0.9746835443037974.\u001b[0m\n",
      "C:\\Users\\deepBlue\\AppData\\Local\\Packages\\PythonSoftwareFoundation.Python.3.10_qbz5n2kfra8p0\\LocalCache\\local-packages\\Python310\\site-packages\\xgboost\\sklearn.py:861: UserWarning:\n",
      "\n",
      "`early_stopping_rounds` in `fit` method is deprecated for better compatibility with scikit-learn, use `early_stopping_rounds` in constructor or`set_params` instead.\n",
      "\n",
      "\u001b[32m[I 2022-12-14 19:31:26,254]\u001b[0m Trial 96 finished with value: 1.0 and parameters: {'lambda': 1.4130230622576423, 'alpha': 2.0456818223071425, 'colsample_bytree': 0.9098382228702879, 'subsample': 0.7050120457357982, 'learning_rate': 0.08179819646106946, 'n_estimators': 473, 'max_depth': 9, 'min_child_weight': 1, 'num_parallel_tree': 1}. Best is trial 96 with value: 1.0.\u001b[0m\n",
      "C:\\Users\\deepBlue\\AppData\\Local\\Packages\\PythonSoftwareFoundation.Python.3.10_qbz5n2kfra8p0\\LocalCache\\local-packages\\Python310\\site-packages\\xgboost\\sklearn.py:861: UserWarning:\n",
      "\n",
      "`early_stopping_rounds` in `fit` method is deprecated for better compatibility with scikit-learn, use `early_stopping_rounds` in constructor or`set_params` instead.\n",
      "\n",
      "\u001b[32m[I 2022-12-14 19:31:26,690]\u001b[0m Trial 97 finished with value: 0.9113924050632911 and parameters: {'lambda': 1.7970987983020597, 'alpha': 2.728079915633017, 'colsample_bytree': 0.9069181497517224, 'subsample': 0.6902158500427057, 'learning_rate': 0.07731330431600315, 'n_estimators': 763, 'max_depth': 9, 'min_child_weight': 1, 'num_parallel_tree': 1}. Best is trial 96 with value: 1.0.\u001b[0m\n",
      "C:\\Users\\deepBlue\\AppData\\Local\\Packages\\PythonSoftwareFoundation.Python.3.10_qbz5n2kfra8p0\\LocalCache\\local-packages\\Python310\\site-packages\\xgboost\\sklearn.py:861: UserWarning:\n",
      "\n",
      "`early_stopping_rounds` in `fit` method is deprecated for better compatibility with scikit-learn, use `early_stopping_rounds` in constructor or`set_params` instead.\n",
      "\n",
      "\u001b[32m[I 2022-12-14 19:31:27,185]\u001b[0m Trial 98 finished with value: 0.9493670886075949 and parameters: {'lambda': 0.8960589768051436, 'alpha': 1.6933399538913196, 'colsample_bytree': 0.9215419477380075, 'subsample': 0.5793382126172488, 'learning_rate': 0.08131655216178843, 'n_estimators': 639, 'max_depth': 9, 'min_child_weight': 1, 'num_parallel_tree': 1}. Best is trial 96 with value: 1.0.\u001b[0m\n",
      "C:\\Users\\deepBlue\\AppData\\Local\\Packages\\PythonSoftwareFoundation.Python.3.10_qbz5n2kfra8p0\\LocalCache\\local-packages\\Python310\\site-packages\\xgboost\\sklearn.py:861: UserWarning:\n",
      "\n",
      "`early_stopping_rounds` in `fit` method is deprecated for better compatibility with scikit-learn, use `early_stopping_rounds` in constructor or`set_params` instead.\n",
      "\n",
      "\u001b[32m[I 2022-12-14 19:31:27,480]\u001b[0m Trial 99 finished with value: 0.9367088607594937 and parameters: {'lambda': 1.3287845655914805, 'alpha': 3.096458120661567, 'colsample_bytree': 0.9425686966499985, 'subsample': 0.6162183593782853, 'learning_rate': 0.08516803592469017, 'n_estimators': 483, 'max_depth': 9, 'min_child_weight': 1, 'num_parallel_tree': 1}. Best is trial 96 with value: 1.0.\u001b[0m\n"
     ]
    },
    {
     "name": "stdout",
     "output_type": "stream",
     "text": [
      "Number of finished trials: 100\n",
      "Best trial:\n",
      "  Value: 1.0\n",
      "  Params: \n",
      "    lambda: 1.4130230622576423\n",
      "    alpha: 2.0456818223071425\n",
      "    colsample_bytree: 0.9098382228702879\n",
      "    subsample: 0.7050120457357982\n",
      "    learning_rate: 0.08179819646106946\n",
      "    n_estimators: 473\n",
      "    max_depth: 9\n",
      "    min_child_weight: 1\n",
      "    num_parallel_tree: 1\n"
     ]
    }
   ],
   "source": [
    "if __name__ == \"__main__\":\n",
    "    study = optuna.create_study(direction=\"maximize\")\n",
    "    study.optimize(objective, n_trials=100, timeout=600)\n",
    "\n",
    "    print(\"Number of finished trials: {}\".format(len(study.trials)))\n",
    "\n",
    "    print(\"Best trial:\")\n",
    "    trial = study.best_trial\n",
    "\n",
    "    print(\"  Value: {}\".format(trial.value))\n",
    "\n",
    "    print(\"  Params: \")\n",
    "    for key, value in trial.params.items():\n",
    "        print(\"    {}: {}\".format(key, value))"
   ]
  },
  {
   "cell_type": "code",
   "execution_count": 36,
   "metadata": {},
   "outputs": [
    {
     "name": "stdout",
     "output_type": "stream",
     "text": [
      "Best trial: score 1.0,\n",
      "params {'lambda': 1.4130230622576423, 'alpha': 2.0456818223071425, 'colsample_bytree': 0.9098382228702879, 'subsample': 0.7050120457357982, 'learning_rate': 0.08179819646106946, 'n_estimators': 473, 'max_depth': 9, 'min_child_weight': 1, 'num_parallel_tree': 1}\n"
     ]
    },
    {
     "data": {
      "text/html": [
       "<div>\n",
       "<style scoped>\n",
       "    .dataframe tbody tr th:only-of-type {\n",
       "        vertical-align: middle;\n",
       "    }\n",
       "\n",
       "    .dataframe tbody tr th {\n",
       "        vertical-align: top;\n",
       "    }\n",
       "\n",
       "    .dataframe thead th {\n",
       "        text-align: right;\n",
       "    }\n",
       "</style>\n",
       "<table border=\"1\" class=\"dataframe\">\n",
       "  <thead>\n",
       "    <tr style=\"text-align: right;\">\n",
       "      <th></th>\n",
       "      <th>number</th>\n",
       "      <th>value</th>\n",
       "      <th>datetime_start</th>\n",
       "      <th>datetime_complete</th>\n",
       "      <th>duration</th>\n",
       "      <th>params_alpha</th>\n",
       "      <th>params_colsample_bytree</th>\n",
       "      <th>params_lambda</th>\n",
       "      <th>params_learning_rate</th>\n",
       "      <th>params_max_depth</th>\n",
       "      <th>params_min_child_weight</th>\n",
       "      <th>params_n_estimators</th>\n",
       "      <th>params_num_parallel_tree</th>\n",
       "      <th>params_subsample</th>\n",
       "      <th>state</th>\n",
       "    </tr>\n",
       "  </thead>\n",
       "  <tbody>\n",
       "    <tr>\n",
       "      <th>0</th>\n",
       "      <td>0</td>\n",
       "      <td>0.658228</td>\n",
       "      <td>2022-12-14 19:30:16.957342</td>\n",
       "      <td>2022-12-14 19:30:17.583443</td>\n",
       "      <td>0 days 00:00:00.626101</td>\n",
       "      <td>9.861044</td>\n",
       "      <td>0.221510</td>\n",
       "      <td>1.540188</td>\n",
       "      <td>0.066285</td>\n",
       "      <td>7</td>\n",
       "      <td>9</td>\n",
       "      <td>1223</td>\n",
       "      <td>1</td>\n",
       "      <td>0.267731</td>\n",
       "      <td>COMPLETE</td>\n",
       "    </tr>\n",
       "    <tr>\n",
       "      <th>1</th>\n",
       "      <td>1</td>\n",
       "      <td>0.924051</td>\n",
       "      <td>2022-12-14 19:30:17.584445</td>\n",
       "      <td>2022-12-14 19:30:18.788806</td>\n",
       "      <td>0 days 00:00:01.204361</td>\n",
       "      <td>3.542249</td>\n",
       "      <td>0.351606</td>\n",
       "      <td>9.281585</td>\n",
       "      <td>0.088011</td>\n",
       "      <td>8</td>\n",
       "      <td>8</td>\n",
       "      <td>1979</td>\n",
       "      <td>1</td>\n",
       "      <td>0.476163</td>\n",
       "      <td>COMPLETE</td>\n",
       "    </tr>\n",
       "    <tr>\n",
       "      <th>2</th>\n",
       "      <td>2</td>\n",
       "      <td>0.949367</td>\n",
       "      <td>2022-12-14 19:30:18.790811</td>\n",
       "      <td>2022-12-14 19:30:20.062123</td>\n",
       "      <td>0 days 00:00:01.271312</td>\n",
       "      <td>3.203052</td>\n",
       "      <td>0.448516</td>\n",
       "      <td>4.815356</td>\n",
       "      <td>0.048302</td>\n",
       "      <td>4</td>\n",
       "      <td>9</td>\n",
       "      <td>1826</td>\n",
       "      <td>1</td>\n",
       "      <td>0.606833</td>\n",
       "      <td>COMPLETE</td>\n",
       "    </tr>\n",
       "    <tr>\n",
       "      <th>3</th>\n",
       "      <td>3</td>\n",
       "      <td>0.974684</td>\n",
       "      <td>2022-12-14 19:30:20.063260</td>\n",
       "      <td>2022-12-14 19:30:21.314519</td>\n",
       "      <td>0 days 00:00:01.251259</td>\n",
       "      <td>5.683890</td>\n",
       "      <td>0.654873</td>\n",
       "      <td>8.869532</td>\n",
       "      <td>0.095190</td>\n",
       "      <td>8</td>\n",
       "      <td>7</td>\n",
       "      <td>2024</td>\n",
       "      <td>1</td>\n",
       "      <td>0.888157</td>\n",
       "      <td>COMPLETE</td>\n",
       "    </tr>\n",
       "    <tr>\n",
       "      <th>4</th>\n",
       "      <td>4</td>\n",
       "      <td>0.936709</td>\n",
       "      <td>2022-12-14 19:30:21.315521</td>\n",
       "      <td>2022-12-14 19:30:21.565120</td>\n",
       "      <td>0 days 00:00:00.249599</td>\n",
       "      <td>9.182837</td>\n",
       "      <td>0.682793</td>\n",
       "      <td>9.225080</td>\n",
       "      <td>0.044030</td>\n",
       "      <td>9</td>\n",
       "      <td>9</td>\n",
       "      <td>229</td>\n",
       "      <td>1</td>\n",
       "      <td>0.773277</td>\n",
       "      <td>COMPLETE</td>\n",
       "    </tr>\n",
       "  </tbody>\n",
       "</table>\n",
       "</div>"
      ],
      "text/plain": [
       "   number     value             datetime_start          datetime_complete  \\\n",
       "0       0  0.658228 2022-12-14 19:30:16.957342 2022-12-14 19:30:17.583443   \n",
       "1       1  0.924051 2022-12-14 19:30:17.584445 2022-12-14 19:30:18.788806   \n",
       "2       2  0.949367 2022-12-14 19:30:18.790811 2022-12-14 19:30:20.062123   \n",
       "3       3  0.974684 2022-12-14 19:30:20.063260 2022-12-14 19:30:21.314519   \n",
       "4       4  0.936709 2022-12-14 19:30:21.315521 2022-12-14 19:30:21.565120   \n",
       "\n",
       "                duration  params_alpha  params_colsample_bytree  \\\n",
       "0 0 days 00:00:00.626101      9.861044                 0.221510   \n",
       "1 0 days 00:00:01.204361      3.542249                 0.351606   \n",
       "2 0 days 00:00:01.271312      3.203052                 0.448516   \n",
       "3 0 days 00:00:01.251259      5.683890                 0.654873   \n",
       "4 0 days 00:00:00.249599      9.182837                 0.682793   \n",
       "\n",
       "   params_lambda  params_learning_rate  params_max_depth  \\\n",
       "0       1.540188              0.066285                 7   \n",
       "1       9.281585              0.088011                 8   \n",
       "2       4.815356              0.048302                 4   \n",
       "3       8.869532              0.095190                 8   \n",
       "4       9.225080              0.044030                 9   \n",
       "\n",
       "   params_min_child_weight  params_n_estimators  params_num_parallel_tree  \\\n",
       "0                        9                 1223                         1   \n",
       "1                        8                 1979                         1   \n",
       "2                        9                 1826                         1   \n",
       "3                        7                 2024                         1   \n",
       "4                        9                  229                         1   \n",
       "\n",
       "   params_subsample     state  \n",
       "0          0.267731  COMPLETE  \n",
       "1          0.476163  COMPLETE  \n",
       "2          0.606833  COMPLETE  \n",
       "3          0.888157  COMPLETE  \n",
       "4          0.773277  COMPLETE  "
      ]
     },
     "execution_count": 36,
     "metadata": {},
     "output_type": "execute_result"
    }
   ],
   "source": [
    "from optuna import visualization\n",
    "print('Best trial: score {},\\nparams {}'.format(study.best_trial.value,study.best_trial.params))\n",
    "hist = study.trials_dataframe()\n",
    "hist.head()"
   ]
  },
  {
   "cell_type": "code",
   "execution_count": 20,
   "metadata": {},
   "outputs": [],
   "source": [
    "# optuna.visualization.plot_slice(study)"
   ]
  },
  {
   "cell_type": "code",
   "execution_count": 23,
   "metadata": {},
   "outputs": [],
   "source": [
    "# optuna.visualization.plot_optimization_history(study)"
   ]
  },
  {
   "cell_type": "code",
   "execution_count": 37,
   "metadata": {},
   "outputs": [
    {
     "ename": "ValueError",
     "evalue": "Mime type rendering requires nbformat>=4.2.0 but it is not installed",
     "output_type": "error",
     "traceback": [
      "\u001b[1;31m---------------------------------------------------------------------------\u001b[0m",
      "\u001b[1;31mValueError\u001b[0m                                Traceback (most recent call last)",
      "File \u001b[1;32m~\\AppData\\Local\\Packages\\PythonSoftwareFoundation.Python.3.10_qbz5n2kfra8p0\\LocalCache\\local-packages\\Python310\\site-packages\\IPython\\core\\formatters.py:920\u001b[0m, in \u001b[0;36mIPythonDisplayFormatter.__call__\u001b[1;34m(self, obj)\u001b[0m\n\u001b[0;32m    918\u001b[0m method \u001b[39m=\u001b[39m get_real_method(obj, \u001b[39mself\u001b[39m\u001b[39m.\u001b[39mprint_method)\n\u001b[0;32m    919\u001b[0m \u001b[39mif\u001b[39;00m method \u001b[39mis\u001b[39;00m \u001b[39mnot\u001b[39;00m \u001b[39mNone\u001b[39;00m:\n\u001b[1;32m--> 920\u001b[0m     method()\n\u001b[0;32m    921\u001b[0m     \u001b[39mreturn\u001b[39;00m \u001b[39mTrue\u001b[39;00m\n",
      "File \u001b[1;32m~\\AppData\\Local\\Packages\\PythonSoftwareFoundation.Python.3.10_qbz5n2kfra8p0\\LocalCache\\local-packages\\Python310\\site-packages\\plotly\\basedatatypes.py:842\u001b[0m, in \u001b[0;36mBaseFigure._ipython_display_\u001b[1;34m(self)\u001b[0m\n\u001b[0;32m    839\u001b[0m \u001b[39mimport\u001b[39;00m \u001b[39mplotly\u001b[39;00m\u001b[39m.\u001b[39;00m\u001b[39mio\u001b[39;00m \u001b[39mas\u001b[39;00m \u001b[39mpio\u001b[39;00m\n\u001b[0;32m    841\u001b[0m \u001b[39mif\u001b[39;00m pio\u001b[39m.\u001b[39mrenderers\u001b[39m.\u001b[39mrender_on_display \u001b[39mand\u001b[39;00m pio\u001b[39m.\u001b[39mrenderers\u001b[39m.\u001b[39mdefault:\n\u001b[1;32m--> 842\u001b[0m     pio\u001b[39m.\u001b[39;49mshow(\u001b[39mself\u001b[39;49m)\n\u001b[0;32m    843\u001b[0m \u001b[39melse\u001b[39;00m:\n\u001b[0;32m    844\u001b[0m     \u001b[39mprint\u001b[39m(\u001b[39mrepr\u001b[39m(\u001b[39mself\u001b[39m))\n",
      "File \u001b[1;32m~\\AppData\\Local\\Packages\\PythonSoftwareFoundation.Python.3.10_qbz5n2kfra8p0\\LocalCache\\local-packages\\Python310\\site-packages\\plotly\\io\\_renderers.py:396\u001b[0m, in \u001b[0;36mshow\u001b[1;34m(fig, renderer, validate, **kwargs)\u001b[0m\n\u001b[0;32m    391\u001b[0m         \u001b[39mraise\u001b[39;00m \u001b[39mValueError\u001b[39;00m(\n\u001b[0;32m    392\u001b[0m             \u001b[39m\"\u001b[39m\u001b[39mMime type rendering requires ipython but it is not installed\u001b[39m\u001b[39m\"\u001b[39m\n\u001b[0;32m    393\u001b[0m         )\n\u001b[0;32m    395\u001b[0m     \u001b[39mif\u001b[39;00m \u001b[39mnot\u001b[39;00m nbformat \u001b[39mor\u001b[39;00m LooseVersion(nbformat\u001b[39m.\u001b[39m__version__) \u001b[39m<\u001b[39m LooseVersion(\u001b[39m\"\u001b[39m\u001b[39m4.2.0\u001b[39m\u001b[39m\"\u001b[39m):\n\u001b[1;32m--> 396\u001b[0m         \u001b[39mraise\u001b[39;00m \u001b[39mValueError\u001b[39;00m(\n\u001b[0;32m    397\u001b[0m             \u001b[39m\"\u001b[39m\u001b[39mMime type rendering requires nbformat>=4.2.0 but it is not installed\u001b[39m\u001b[39m\"\u001b[39m\n\u001b[0;32m    398\u001b[0m         )\n\u001b[0;32m    400\u001b[0m     ipython_display\u001b[39m.\u001b[39mdisplay(bundle, raw\u001b[39m=\u001b[39m\u001b[39mTrue\u001b[39;00m)\n\u001b[0;32m    402\u001b[0m \u001b[39m# external renderers\u001b[39;00m\n",
      "\u001b[1;31mValueError\u001b[0m: Mime type rendering requires nbformat>=4.2.0 but it is not installed"
     ]
    },
    {
     "data": {
      "application/vnd.plotly.v1+json": {
       "config": {
        "plotlyServerURL": "https://plot.ly"
       },
       "data": [
        {
         "cliponaxis": false,
         "hovertemplate": [
          "num_parallel_tree (IntDistribution): 0.0<extra></extra>",
          "n_estimators (IntDistribution): 0.008822240717505245<extra></extra>",
          "lambda (FloatDistribution): 0.014275424991033443<extra></extra>",
          "subsample (FloatDistribution): 0.01704249301285241<extra></extra>",
          "max_depth (CategoricalDistribution): 0.027018020842648954<extra></extra>",
          "min_child_weight (IntDistribution): 0.031213685231616876<extra></extra>",
          "learning_rate (FloatDistribution): 0.11776194412341731<extra></extra>",
          "alpha (FloatDistribution): 0.2730108798426433<extra></extra>",
          "colsample_bytree (FloatDistribution): 0.5108553112382826<extra></extra>"
         ],
         "marker": {
          "color": "rgb(66,146,198)"
         },
         "orientation": "h",
         "text": [
          "<0.01",
          "<0.01",
          "0.01",
          "0.02",
          "0.03",
          "0.03",
          "0.12",
          "0.27",
          "0.51"
         ],
         "textposition": "outside",
         "type": "bar",
         "x": [
          0,
          0.008822240717505245,
          0.014275424991033443,
          0.01704249301285241,
          0.027018020842648954,
          0.031213685231616876,
          0.11776194412341731,
          0.2730108798426433,
          0.5108553112382826
         ],
         "y": [
          "num_parallel_tree",
          "n_estimators",
          "lambda",
          "subsample",
          "max_depth",
          "min_child_weight",
          "learning_rate",
          "alpha",
          "colsample_bytree"
         ]
        }
       ],
       "layout": {
        "showlegend": false,
        "template": {
         "data": {
          "bar": [
           {
            "error_x": {
             "color": "#2a3f5f"
            },
            "error_y": {
             "color": "#2a3f5f"
            },
            "marker": {
             "line": {
              "color": "#E5ECF6",
              "width": 0.5
             },
             "pattern": {
              "fillmode": "overlay",
              "size": 10,
              "solidity": 0.2
             }
            },
            "type": "bar"
           }
          ],
          "barpolar": [
           {
            "marker": {
             "line": {
              "color": "#E5ECF6",
              "width": 0.5
             },
             "pattern": {
              "fillmode": "overlay",
              "size": 10,
              "solidity": 0.2
             }
            },
            "type": "barpolar"
           }
          ],
          "carpet": [
           {
            "aaxis": {
             "endlinecolor": "#2a3f5f",
             "gridcolor": "white",
             "linecolor": "white",
             "minorgridcolor": "white",
             "startlinecolor": "#2a3f5f"
            },
            "baxis": {
             "endlinecolor": "#2a3f5f",
             "gridcolor": "white",
             "linecolor": "white",
             "minorgridcolor": "white",
             "startlinecolor": "#2a3f5f"
            },
            "type": "carpet"
           }
          ],
          "choropleth": [
           {
            "colorbar": {
             "outlinewidth": 0,
             "ticks": ""
            },
            "type": "choropleth"
           }
          ],
          "contour": [
           {
            "colorbar": {
             "outlinewidth": 0,
             "ticks": ""
            },
            "colorscale": [
             [
              0,
              "#0d0887"
             ],
             [
              0.1111111111111111,
              "#46039f"
             ],
             [
              0.2222222222222222,
              "#7201a8"
             ],
             [
              0.3333333333333333,
              "#9c179e"
             ],
             [
              0.4444444444444444,
              "#bd3786"
             ],
             [
              0.5555555555555556,
              "#d8576b"
             ],
             [
              0.6666666666666666,
              "#ed7953"
             ],
             [
              0.7777777777777778,
              "#fb9f3a"
             ],
             [
              0.8888888888888888,
              "#fdca26"
             ],
             [
              1,
              "#f0f921"
             ]
            ],
            "type": "contour"
           }
          ],
          "contourcarpet": [
           {
            "colorbar": {
             "outlinewidth": 0,
             "ticks": ""
            },
            "type": "contourcarpet"
           }
          ],
          "heatmap": [
           {
            "colorbar": {
             "outlinewidth": 0,
             "ticks": ""
            },
            "colorscale": [
             [
              0,
              "#0d0887"
             ],
             [
              0.1111111111111111,
              "#46039f"
             ],
             [
              0.2222222222222222,
              "#7201a8"
             ],
             [
              0.3333333333333333,
              "#9c179e"
             ],
             [
              0.4444444444444444,
              "#bd3786"
             ],
             [
              0.5555555555555556,
              "#d8576b"
             ],
             [
              0.6666666666666666,
              "#ed7953"
             ],
             [
              0.7777777777777778,
              "#fb9f3a"
             ],
             [
              0.8888888888888888,
              "#fdca26"
             ],
             [
              1,
              "#f0f921"
             ]
            ],
            "type": "heatmap"
           }
          ],
          "heatmapgl": [
           {
            "colorbar": {
             "outlinewidth": 0,
             "ticks": ""
            },
            "colorscale": [
             [
              0,
              "#0d0887"
             ],
             [
              0.1111111111111111,
              "#46039f"
             ],
             [
              0.2222222222222222,
              "#7201a8"
             ],
             [
              0.3333333333333333,
              "#9c179e"
             ],
             [
              0.4444444444444444,
              "#bd3786"
             ],
             [
              0.5555555555555556,
              "#d8576b"
             ],
             [
              0.6666666666666666,
              "#ed7953"
             ],
             [
              0.7777777777777778,
              "#fb9f3a"
             ],
             [
              0.8888888888888888,
              "#fdca26"
             ],
             [
              1,
              "#f0f921"
             ]
            ],
            "type": "heatmapgl"
           }
          ],
          "histogram": [
           {
            "marker": {
             "pattern": {
              "fillmode": "overlay",
              "size": 10,
              "solidity": 0.2
             }
            },
            "type": "histogram"
           }
          ],
          "histogram2d": [
           {
            "colorbar": {
             "outlinewidth": 0,
             "ticks": ""
            },
            "colorscale": [
             [
              0,
              "#0d0887"
             ],
             [
              0.1111111111111111,
              "#46039f"
             ],
             [
              0.2222222222222222,
              "#7201a8"
             ],
             [
              0.3333333333333333,
              "#9c179e"
             ],
             [
              0.4444444444444444,
              "#bd3786"
             ],
             [
              0.5555555555555556,
              "#d8576b"
             ],
             [
              0.6666666666666666,
              "#ed7953"
             ],
             [
              0.7777777777777778,
              "#fb9f3a"
             ],
             [
              0.8888888888888888,
              "#fdca26"
             ],
             [
              1,
              "#f0f921"
             ]
            ],
            "type": "histogram2d"
           }
          ],
          "histogram2dcontour": [
           {
            "colorbar": {
             "outlinewidth": 0,
             "ticks": ""
            },
            "colorscale": [
             [
              0,
              "#0d0887"
             ],
             [
              0.1111111111111111,
              "#46039f"
             ],
             [
              0.2222222222222222,
              "#7201a8"
             ],
             [
              0.3333333333333333,
              "#9c179e"
             ],
             [
              0.4444444444444444,
              "#bd3786"
             ],
             [
              0.5555555555555556,
              "#d8576b"
             ],
             [
              0.6666666666666666,
              "#ed7953"
             ],
             [
              0.7777777777777778,
              "#fb9f3a"
             ],
             [
              0.8888888888888888,
              "#fdca26"
             ],
             [
              1,
              "#f0f921"
             ]
            ],
            "type": "histogram2dcontour"
           }
          ],
          "mesh3d": [
           {
            "colorbar": {
             "outlinewidth": 0,
             "ticks": ""
            },
            "type": "mesh3d"
           }
          ],
          "parcoords": [
           {
            "line": {
             "colorbar": {
              "outlinewidth": 0,
              "ticks": ""
             }
            },
            "type": "parcoords"
           }
          ],
          "pie": [
           {
            "automargin": true,
            "type": "pie"
           }
          ],
          "scatter": [
           {
            "fillpattern": {
             "fillmode": "overlay",
             "size": 10,
             "solidity": 0.2
            },
            "type": "scatter"
           }
          ],
          "scatter3d": [
           {
            "line": {
             "colorbar": {
              "outlinewidth": 0,
              "ticks": ""
             }
            },
            "marker": {
             "colorbar": {
              "outlinewidth": 0,
              "ticks": ""
             }
            },
            "type": "scatter3d"
           }
          ],
          "scattercarpet": [
           {
            "marker": {
             "colorbar": {
              "outlinewidth": 0,
              "ticks": ""
             }
            },
            "type": "scattercarpet"
           }
          ],
          "scattergeo": [
           {
            "marker": {
             "colorbar": {
              "outlinewidth": 0,
              "ticks": ""
             }
            },
            "type": "scattergeo"
           }
          ],
          "scattergl": [
           {
            "marker": {
             "colorbar": {
              "outlinewidth": 0,
              "ticks": ""
             }
            },
            "type": "scattergl"
           }
          ],
          "scattermapbox": [
           {
            "marker": {
             "colorbar": {
              "outlinewidth": 0,
              "ticks": ""
             }
            },
            "type": "scattermapbox"
           }
          ],
          "scatterpolar": [
           {
            "marker": {
             "colorbar": {
              "outlinewidth": 0,
              "ticks": ""
             }
            },
            "type": "scatterpolar"
           }
          ],
          "scatterpolargl": [
           {
            "marker": {
             "colorbar": {
              "outlinewidth": 0,
              "ticks": ""
             }
            },
            "type": "scatterpolargl"
           }
          ],
          "scatterternary": [
           {
            "marker": {
             "colorbar": {
              "outlinewidth": 0,
              "ticks": ""
             }
            },
            "type": "scatterternary"
           }
          ],
          "surface": [
           {
            "colorbar": {
             "outlinewidth": 0,
             "ticks": ""
            },
            "colorscale": [
             [
              0,
              "#0d0887"
             ],
             [
              0.1111111111111111,
              "#46039f"
             ],
             [
              0.2222222222222222,
              "#7201a8"
             ],
             [
              0.3333333333333333,
              "#9c179e"
             ],
             [
              0.4444444444444444,
              "#bd3786"
             ],
             [
              0.5555555555555556,
              "#d8576b"
             ],
             [
              0.6666666666666666,
              "#ed7953"
             ],
             [
              0.7777777777777778,
              "#fb9f3a"
             ],
             [
              0.8888888888888888,
              "#fdca26"
             ],
             [
              1,
              "#f0f921"
             ]
            ],
            "type": "surface"
           }
          ],
          "table": [
           {
            "cells": {
             "fill": {
              "color": "#EBF0F8"
             },
             "line": {
              "color": "white"
             }
            },
            "header": {
             "fill": {
              "color": "#C8D4E3"
             },
             "line": {
              "color": "white"
             }
            },
            "type": "table"
           }
          ]
         },
         "layout": {
          "annotationdefaults": {
           "arrowcolor": "#2a3f5f",
           "arrowhead": 0,
           "arrowwidth": 1
          },
          "autotypenumbers": "strict",
          "coloraxis": {
           "colorbar": {
            "outlinewidth": 0,
            "ticks": ""
           }
          },
          "colorscale": {
           "diverging": [
            [
             0,
             "#8e0152"
            ],
            [
             0.1,
             "#c51b7d"
            ],
            [
             0.2,
             "#de77ae"
            ],
            [
             0.3,
             "#f1b6da"
            ],
            [
             0.4,
             "#fde0ef"
            ],
            [
             0.5,
             "#f7f7f7"
            ],
            [
             0.6,
             "#e6f5d0"
            ],
            [
             0.7,
             "#b8e186"
            ],
            [
             0.8,
             "#7fbc41"
            ],
            [
             0.9,
             "#4d9221"
            ],
            [
             1,
             "#276419"
            ]
           ],
           "sequential": [
            [
             0,
             "#0d0887"
            ],
            [
             0.1111111111111111,
             "#46039f"
            ],
            [
             0.2222222222222222,
             "#7201a8"
            ],
            [
             0.3333333333333333,
             "#9c179e"
            ],
            [
             0.4444444444444444,
             "#bd3786"
            ],
            [
             0.5555555555555556,
             "#d8576b"
            ],
            [
             0.6666666666666666,
             "#ed7953"
            ],
            [
             0.7777777777777778,
             "#fb9f3a"
            ],
            [
             0.8888888888888888,
             "#fdca26"
            ],
            [
             1,
             "#f0f921"
            ]
           ],
           "sequentialminus": [
            [
             0,
             "#0d0887"
            ],
            [
             0.1111111111111111,
             "#46039f"
            ],
            [
             0.2222222222222222,
             "#7201a8"
            ],
            [
             0.3333333333333333,
             "#9c179e"
            ],
            [
             0.4444444444444444,
             "#bd3786"
            ],
            [
             0.5555555555555556,
             "#d8576b"
            ],
            [
             0.6666666666666666,
             "#ed7953"
            ],
            [
             0.7777777777777778,
             "#fb9f3a"
            ],
            [
             0.8888888888888888,
             "#fdca26"
            ],
            [
             1,
             "#f0f921"
            ]
           ]
          },
          "colorway": [
           "#636efa",
           "#EF553B",
           "#00cc96",
           "#ab63fa",
           "#FFA15A",
           "#19d3f3",
           "#FF6692",
           "#B6E880",
           "#FF97FF",
           "#FECB52"
          ],
          "font": {
           "color": "#2a3f5f"
          },
          "geo": {
           "bgcolor": "white",
           "lakecolor": "white",
           "landcolor": "#E5ECF6",
           "showlakes": true,
           "showland": true,
           "subunitcolor": "white"
          },
          "hoverlabel": {
           "align": "left"
          },
          "hovermode": "closest",
          "mapbox": {
           "style": "light"
          },
          "paper_bgcolor": "white",
          "plot_bgcolor": "#E5ECF6",
          "polar": {
           "angularaxis": {
            "gridcolor": "white",
            "linecolor": "white",
            "ticks": ""
           },
           "bgcolor": "#E5ECF6",
           "radialaxis": {
            "gridcolor": "white",
            "linecolor": "white",
            "ticks": ""
           }
          },
          "scene": {
           "xaxis": {
            "backgroundcolor": "#E5ECF6",
            "gridcolor": "white",
            "gridwidth": 2,
            "linecolor": "white",
            "showbackground": true,
            "ticks": "",
            "zerolinecolor": "white"
           },
           "yaxis": {
            "backgroundcolor": "#E5ECF6",
            "gridcolor": "white",
            "gridwidth": 2,
            "linecolor": "white",
            "showbackground": true,
            "ticks": "",
            "zerolinecolor": "white"
           },
           "zaxis": {
            "backgroundcolor": "#E5ECF6",
            "gridcolor": "white",
            "gridwidth": 2,
            "linecolor": "white",
            "showbackground": true,
            "ticks": "",
            "zerolinecolor": "white"
           }
          },
          "shapedefaults": {
           "line": {
            "color": "#2a3f5f"
           }
          },
          "ternary": {
           "aaxis": {
            "gridcolor": "white",
            "linecolor": "white",
            "ticks": ""
           },
           "baxis": {
            "gridcolor": "white",
            "linecolor": "white",
            "ticks": ""
           },
           "bgcolor": "#E5ECF6",
           "caxis": {
            "gridcolor": "white",
            "linecolor": "white",
            "ticks": ""
           }
          },
          "title": {
           "x": 0.05
          },
          "xaxis": {
           "automargin": true,
           "gridcolor": "white",
           "linecolor": "white",
           "ticks": "",
           "title": {
            "standoff": 15
           },
           "zerolinecolor": "white",
           "zerolinewidth": 2
          },
          "yaxis": {
           "automargin": true,
           "gridcolor": "white",
           "linecolor": "white",
           "ticks": "",
           "title": {
            "standoff": 15
           },
           "zerolinecolor": "white",
           "zerolinewidth": 2
          }
         }
        },
        "title": {
         "text": "Hyperparameter Importances"
        },
        "xaxis": {
         "title": {
          "text": "Importance for Objective Value"
         }
        },
        "yaxis": {
         "title": {
          "text": "Hyperparameter"
         }
        }
       }
      },
      "text/html": [
       "<div>                        <script type=\"text/javascript\">window.PlotlyConfig = {MathJaxConfig: 'local'};</script>\n",
       "        <script src=\"https://cdn.plot.ly/plotly-2.16.1.min.js\"></script>                <div id=\"717a62e2-e24d-4dc5-8129-c4cba04019cd\" class=\"plotly-graph-div\" style=\"height:100%; width:100%;\"></div>            <script type=\"text/javascript\">                                    window.PLOTLYENV=window.PLOTLYENV || {};                                    if (document.getElementById(\"717a62e2-e24d-4dc5-8129-c4cba04019cd\")) {                    Plotly.newPlot(                        \"717a62e2-e24d-4dc5-8129-c4cba04019cd\",                        [{\"cliponaxis\":false,\"hovertemplate\":[\"num_parallel_tree (IntDistribution): 0.0<extra></extra>\",\"n_estimators (IntDistribution): 0.008822240717505245<extra></extra>\",\"lambda (FloatDistribution): 0.014275424991033443<extra></extra>\",\"subsample (FloatDistribution): 0.01704249301285241<extra></extra>\",\"max_depth (CategoricalDistribution): 0.027018020842648954<extra></extra>\",\"min_child_weight (IntDistribution): 0.031213685231616876<extra></extra>\",\"learning_rate (FloatDistribution): 0.11776194412341731<extra></extra>\",\"alpha (FloatDistribution): 0.2730108798426433<extra></extra>\",\"colsample_bytree (FloatDistribution): 0.5108553112382826<extra></extra>\"],\"marker\":{\"color\":\"rgb(66,146,198)\"},\"orientation\":\"h\",\"text\":[\"<0.01\",\"<0.01\",\"0.01\",\"0.02\",\"0.03\",\"0.03\",\"0.12\",\"0.27\",\"0.51\"],\"textposition\":\"outside\",\"x\":[0.0,0.008822240717505245,0.014275424991033443,0.01704249301285241,0.027018020842648954,0.031213685231616876,0.11776194412341731,0.2730108798426433,0.5108553112382826],\"y\":[\"num_parallel_tree\",\"n_estimators\",\"lambda\",\"subsample\",\"max_depth\",\"min_child_weight\",\"learning_rate\",\"alpha\",\"colsample_bytree\"],\"type\":\"bar\"}],                        {\"showlegend\":false,\"title\":{\"text\":\"Hyperparameter Importances\"},\"xaxis\":{\"title\":{\"text\":\"Importance for Objective Value\"}},\"yaxis\":{\"title\":{\"text\":\"Hyperparameter\"}},\"template\":{\"data\":{\"histogram2dcontour\":[{\"type\":\"histogram2dcontour\",\"colorbar\":{\"outlinewidth\":0,\"ticks\":\"\"},\"colorscale\":[[0.0,\"#0d0887\"],[0.1111111111111111,\"#46039f\"],[0.2222222222222222,\"#7201a8\"],[0.3333333333333333,\"#9c179e\"],[0.4444444444444444,\"#bd3786\"],[0.5555555555555556,\"#d8576b\"],[0.6666666666666666,\"#ed7953\"],[0.7777777777777778,\"#fb9f3a\"],[0.8888888888888888,\"#fdca26\"],[1.0,\"#f0f921\"]]}],\"choropleth\":[{\"type\":\"choropleth\",\"colorbar\":{\"outlinewidth\":0,\"ticks\":\"\"}}],\"histogram2d\":[{\"type\":\"histogram2d\",\"colorbar\":{\"outlinewidth\":0,\"ticks\":\"\"},\"colorscale\":[[0.0,\"#0d0887\"],[0.1111111111111111,\"#46039f\"],[0.2222222222222222,\"#7201a8\"],[0.3333333333333333,\"#9c179e\"],[0.4444444444444444,\"#bd3786\"],[0.5555555555555556,\"#d8576b\"],[0.6666666666666666,\"#ed7953\"],[0.7777777777777778,\"#fb9f3a\"],[0.8888888888888888,\"#fdca26\"],[1.0,\"#f0f921\"]]}],\"heatmap\":[{\"type\":\"heatmap\",\"colorbar\":{\"outlinewidth\":0,\"ticks\":\"\"},\"colorscale\":[[0.0,\"#0d0887\"],[0.1111111111111111,\"#46039f\"],[0.2222222222222222,\"#7201a8\"],[0.3333333333333333,\"#9c179e\"],[0.4444444444444444,\"#bd3786\"],[0.5555555555555556,\"#d8576b\"],[0.6666666666666666,\"#ed7953\"],[0.7777777777777778,\"#fb9f3a\"],[0.8888888888888888,\"#fdca26\"],[1.0,\"#f0f921\"]]}],\"heatmapgl\":[{\"type\":\"heatmapgl\",\"colorbar\":{\"outlinewidth\":0,\"ticks\":\"\"},\"colorscale\":[[0.0,\"#0d0887\"],[0.1111111111111111,\"#46039f\"],[0.2222222222222222,\"#7201a8\"],[0.3333333333333333,\"#9c179e\"],[0.4444444444444444,\"#bd3786\"],[0.5555555555555556,\"#d8576b\"],[0.6666666666666666,\"#ed7953\"],[0.7777777777777778,\"#fb9f3a\"],[0.8888888888888888,\"#fdca26\"],[1.0,\"#f0f921\"]]}],\"contourcarpet\":[{\"type\":\"contourcarpet\",\"colorbar\":{\"outlinewidth\":0,\"ticks\":\"\"}}],\"contour\":[{\"type\":\"contour\",\"colorbar\":{\"outlinewidth\":0,\"ticks\":\"\"},\"colorscale\":[[0.0,\"#0d0887\"],[0.1111111111111111,\"#46039f\"],[0.2222222222222222,\"#7201a8\"],[0.3333333333333333,\"#9c179e\"],[0.4444444444444444,\"#bd3786\"],[0.5555555555555556,\"#d8576b\"],[0.6666666666666666,\"#ed7953\"],[0.7777777777777778,\"#fb9f3a\"],[0.8888888888888888,\"#fdca26\"],[1.0,\"#f0f921\"]]}],\"surface\":[{\"type\":\"surface\",\"colorbar\":{\"outlinewidth\":0,\"ticks\":\"\"},\"colorscale\":[[0.0,\"#0d0887\"],[0.1111111111111111,\"#46039f\"],[0.2222222222222222,\"#7201a8\"],[0.3333333333333333,\"#9c179e\"],[0.4444444444444444,\"#bd3786\"],[0.5555555555555556,\"#d8576b\"],[0.6666666666666666,\"#ed7953\"],[0.7777777777777778,\"#fb9f3a\"],[0.8888888888888888,\"#fdca26\"],[1.0,\"#f0f921\"]]}],\"mesh3d\":[{\"type\":\"mesh3d\",\"colorbar\":{\"outlinewidth\":0,\"ticks\":\"\"}}],\"scatter\":[{\"fillpattern\":{\"fillmode\":\"overlay\",\"size\":10,\"solidity\":0.2},\"type\":\"scatter\"}],\"parcoords\":[{\"type\":\"parcoords\",\"line\":{\"colorbar\":{\"outlinewidth\":0,\"ticks\":\"\"}}}],\"scatterpolargl\":[{\"type\":\"scatterpolargl\",\"marker\":{\"colorbar\":{\"outlinewidth\":0,\"ticks\":\"\"}}}],\"bar\":[{\"error_x\":{\"color\":\"#2a3f5f\"},\"error_y\":{\"color\":\"#2a3f5f\"},\"marker\":{\"line\":{\"color\":\"#E5ECF6\",\"width\":0.5},\"pattern\":{\"fillmode\":\"overlay\",\"size\":10,\"solidity\":0.2}},\"type\":\"bar\"}],\"scattergeo\":[{\"type\":\"scattergeo\",\"marker\":{\"colorbar\":{\"outlinewidth\":0,\"ticks\":\"\"}}}],\"scatterpolar\":[{\"type\":\"scatterpolar\",\"marker\":{\"colorbar\":{\"outlinewidth\":0,\"ticks\":\"\"}}}],\"histogram\":[{\"marker\":{\"pattern\":{\"fillmode\":\"overlay\",\"size\":10,\"solidity\":0.2}},\"type\":\"histogram\"}],\"scattergl\":[{\"type\":\"scattergl\",\"marker\":{\"colorbar\":{\"outlinewidth\":0,\"ticks\":\"\"}}}],\"scatter3d\":[{\"type\":\"scatter3d\",\"line\":{\"colorbar\":{\"outlinewidth\":0,\"ticks\":\"\"}},\"marker\":{\"colorbar\":{\"outlinewidth\":0,\"ticks\":\"\"}}}],\"scattermapbox\":[{\"type\":\"scattermapbox\",\"marker\":{\"colorbar\":{\"outlinewidth\":0,\"ticks\":\"\"}}}],\"scatterternary\":[{\"type\":\"scatterternary\",\"marker\":{\"colorbar\":{\"outlinewidth\":0,\"ticks\":\"\"}}}],\"scattercarpet\":[{\"type\":\"scattercarpet\",\"marker\":{\"colorbar\":{\"outlinewidth\":0,\"ticks\":\"\"}}}],\"carpet\":[{\"aaxis\":{\"endlinecolor\":\"#2a3f5f\",\"gridcolor\":\"white\",\"linecolor\":\"white\",\"minorgridcolor\":\"white\",\"startlinecolor\":\"#2a3f5f\"},\"baxis\":{\"endlinecolor\":\"#2a3f5f\",\"gridcolor\":\"white\",\"linecolor\":\"white\",\"minorgridcolor\":\"white\",\"startlinecolor\":\"#2a3f5f\"},\"type\":\"carpet\"}],\"table\":[{\"cells\":{\"fill\":{\"color\":\"#EBF0F8\"},\"line\":{\"color\":\"white\"}},\"header\":{\"fill\":{\"color\":\"#C8D4E3\"},\"line\":{\"color\":\"white\"}},\"type\":\"table\"}],\"barpolar\":[{\"marker\":{\"line\":{\"color\":\"#E5ECF6\",\"width\":0.5},\"pattern\":{\"fillmode\":\"overlay\",\"size\":10,\"solidity\":0.2}},\"type\":\"barpolar\"}],\"pie\":[{\"automargin\":true,\"type\":\"pie\"}]},\"layout\":{\"autotypenumbers\":\"strict\",\"colorway\":[\"#636efa\",\"#EF553B\",\"#00cc96\",\"#ab63fa\",\"#FFA15A\",\"#19d3f3\",\"#FF6692\",\"#B6E880\",\"#FF97FF\",\"#FECB52\"],\"font\":{\"color\":\"#2a3f5f\"},\"hovermode\":\"closest\",\"hoverlabel\":{\"align\":\"left\"},\"paper_bgcolor\":\"white\",\"plot_bgcolor\":\"#E5ECF6\",\"polar\":{\"bgcolor\":\"#E5ECF6\",\"angularaxis\":{\"gridcolor\":\"white\",\"linecolor\":\"white\",\"ticks\":\"\"},\"radialaxis\":{\"gridcolor\":\"white\",\"linecolor\":\"white\",\"ticks\":\"\"}},\"ternary\":{\"bgcolor\":\"#E5ECF6\",\"aaxis\":{\"gridcolor\":\"white\",\"linecolor\":\"white\",\"ticks\":\"\"},\"baxis\":{\"gridcolor\":\"white\",\"linecolor\":\"white\",\"ticks\":\"\"},\"caxis\":{\"gridcolor\":\"white\",\"linecolor\":\"white\",\"ticks\":\"\"}},\"coloraxis\":{\"colorbar\":{\"outlinewidth\":0,\"ticks\":\"\"}},\"colorscale\":{\"sequential\":[[0.0,\"#0d0887\"],[0.1111111111111111,\"#46039f\"],[0.2222222222222222,\"#7201a8\"],[0.3333333333333333,\"#9c179e\"],[0.4444444444444444,\"#bd3786\"],[0.5555555555555556,\"#d8576b\"],[0.6666666666666666,\"#ed7953\"],[0.7777777777777778,\"#fb9f3a\"],[0.8888888888888888,\"#fdca26\"],[1.0,\"#f0f921\"]],\"sequentialminus\":[[0.0,\"#0d0887\"],[0.1111111111111111,\"#46039f\"],[0.2222222222222222,\"#7201a8\"],[0.3333333333333333,\"#9c179e\"],[0.4444444444444444,\"#bd3786\"],[0.5555555555555556,\"#d8576b\"],[0.6666666666666666,\"#ed7953\"],[0.7777777777777778,\"#fb9f3a\"],[0.8888888888888888,\"#fdca26\"],[1.0,\"#f0f921\"]],\"diverging\":[[0,\"#8e0152\"],[0.1,\"#c51b7d\"],[0.2,\"#de77ae\"],[0.3,\"#f1b6da\"],[0.4,\"#fde0ef\"],[0.5,\"#f7f7f7\"],[0.6,\"#e6f5d0\"],[0.7,\"#b8e186\"],[0.8,\"#7fbc41\"],[0.9,\"#4d9221\"],[1,\"#276419\"]]},\"xaxis\":{\"gridcolor\":\"white\",\"linecolor\":\"white\",\"ticks\":\"\",\"title\":{\"standoff\":15},\"zerolinecolor\":\"white\",\"automargin\":true,\"zerolinewidth\":2},\"yaxis\":{\"gridcolor\":\"white\",\"linecolor\":\"white\",\"ticks\":\"\",\"title\":{\"standoff\":15},\"zerolinecolor\":\"white\",\"automargin\":true,\"zerolinewidth\":2},\"scene\":{\"xaxis\":{\"backgroundcolor\":\"#E5ECF6\",\"gridcolor\":\"white\",\"linecolor\":\"white\",\"showbackground\":true,\"ticks\":\"\",\"zerolinecolor\":\"white\",\"gridwidth\":2},\"yaxis\":{\"backgroundcolor\":\"#E5ECF6\",\"gridcolor\":\"white\",\"linecolor\":\"white\",\"showbackground\":true,\"ticks\":\"\",\"zerolinecolor\":\"white\",\"gridwidth\":2},\"zaxis\":{\"backgroundcolor\":\"#E5ECF6\",\"gridcolor\":\"white\",\"linecolor\":\"white\",\"showbackground\":true,\"ticks\":\"\",\"zerolinecolor\":\"white\",\"gridwidth\":2}},\"shapedefaults\":{\"line\":{\"color\":\"#2a3f5f\"}},\"annotationdefaults\":{\"arrowcolor\":\"#2a3f5f\",\"arrowhead\":0,\"arrowwidth\":1},\"geo\":{\"bgcolor\":\"white\",\"landcolor\":\"#E5ECF6\",\"subunitcolor\":\"white\",\"showland\":true,\"showlakes\":true,\"lakecolor\":\"white\"},\"title\":{\"x\":0.05},\"mapbox\":{\"style\":\"light\"}}}},                        {\"responsive\": true}                    )                };                            </script>        </div>"
      ],
      "text/plain": [
       "Figure({\n",
       "    'data': [{'cliponaxis': False,\n",
       "              'hovertemplate': [num_parallel_tree (IntDistribution):\n",
       "                                0.0<extra></extra>, n_estimators (IntDistribution):\n",
       "                                0.008822240717505245<extra></extra>, lambda\n",
       "                                (FloatDistribution):\n",
       "                                0.014275424991033443<extra></extra>, subsample\n",
       "                                (FloatDistribution):\n",
       "                                0.01704249301285241<extra></extra>, max_depth\n",
       "                                (CategoricalDistribution):\n",
       "                                0.027018020842648954<extra></extra>,\n",
       "                                min_child_weight (IntDistribution):\n",
       "                                0.031213685231616876<extra></extra>, learning_rate\n",
       "                                (FloatDistribution):\n",
       "                                0.11776194412341731<extra></extra>, alpha\n",
       "                                (FloatDistribution):\n",
       "                                0.2730108798426433<extra></extra>, colsample_bytree\n",
       "                                (FloatDistribution):\n",
       "                                0.5108553112382826<extra></extra>],\n",
       "              'marker': {'color': 'rgb(66,146,198)'},\n",
       "              'orientation': 'h',\n",
       "              'text': [<0.01, <0.01, 0.01, 0.02, 0.03, 0.03, 0.12, 0.27, 0.51],\n",
       "              'textposition': 'outside',\n",
       "              'type': 'bar',\n",
       "              'x': [0.0, 0.008822240717505245, 0.014275424991033443,\n",
       "                    0.01704249301285241, 0.027018020842648954,\n",
       "                    0.031213685231616876, 0.11776194412341731, 0.2730108798426433,\n",
       "                    0.5108553112382826],\n",
       "              'y': [num_parallel_tree, n_estimators, lambda, subsample, max_depth,\n",
       "                    min_child_weight, learning_rate, alpha, colsample_bytree]}],\n",
       "    'layout': {'showlegend': False,\n",
       "               'template': '...',\n",
       "               'title': {'text': 'Hyperparameter Importances'},\n",
       "               'xaxis': {'title': {'text': 'Importance for Objective Value'}},\n",
       "               'yaxis': {'title': {'text': 'Hyperparameter'}}}\n",
       "})"
      ]
     },
     "execution_count": 37,
     "metadata": {},
     "output_type": "execute_result"
    }
   ],
   "source": [
    "optuna.visualization.plot_param_importances(study)"
   ]
  },
  {
   "cell_type": "code",
   "execution_count": 38,
   "metadata": {},
   "outputs": [
    {
     "name": "stdout",
     "output_type": "stream",
     "text": [
      "Accuracy_score: 0.9620253164556962\n"
     ]
    }
   ],
   "source": [
    "# 'lambda': 1.4130230622576423, 'alpha': 2.0456818223071425, 'colsample_bytree': 0.9098382228702879, \n",
    "# 'subsample': 0.7050120457357982, 'learning_rate': 0.08179819646106946, \n",
    "# 'n_estimators': 473, 'max_depth': 9, 'min_child_weight': 1, 'num_parallel_tree': 1\n",
    "\n",
    "clf=XGBClassifier()\n",
    "parametres={'lambda': [1.4130230622576423], 'alpha': [2.0456818223071425], 'colsample_bytree': [0.9098382228702879],\n",
    "'subsample': [0.7050120457357982], 'learning_rate': [0.08179819646106946], 'n_estimators': [473],\n",
    "'max_depth': [9], 'min_child_weight': [1], 'num_parallel_tree': [1]}\n",
    "grid_search_cv_clf=GridSearchCV(clf,parametres,cv=5)\n",
    "grid_search_cv_clf.fit(X_train,y_train)\n",
    "best_clf2=grid_search_cv_clf.best_estimator_\n",
    "y_pred2=best_clf2.predict(X_test)\n",
    "print(f'Accuracy_score: {accuracy_score(y_test,y_pred2)}')"
   ]
  },
  {
   "cell_type": "code",
   "execution_count": 39,
   "metadata": {},
   "outputs": [
    {
     "name": "stdout",
     "output_type": "stream",
     "text": [
      "./model/2022-12-14\n"
     ]
    }
   ],
   "source": [
    "# 모델 저장\n",
    "import joblib\n",
    "model_path = file_make('model') + '/XGBboost02' +'.model'\n",
    "best_clf2.save_model(model_path)\n",
    "joblib.dump(best_clf2, open(model_path, 'wb'))"
   ]
  },
  {
   "cell_type": "code",
   "execution_count": 40,
   "metadata": {},
   "outputs": [
    {
     "data": {
      "text/plain": [
       "Text(0.5, 1.0, 'Feature Importance')"
      ]
     },
     "execution_count": 40,
     "metadata": {},
     "output_type": "execute_result"
    },
    {
     "data": {
      "image/png": "[encoded data removed]",
      "text/plain": [
       "<Figure size 1200x600 with 1 Axes>"
      ]
     },
     "metadata": {},
     "output_type": "display_data"
    }
   ],
   "source": [
    "import matplotlib.pyplot as plt\n",
    "\n",
    "feature_importance = best_clf2.feature_importances_\n",
    "sorted_idx = np.argsort(feature_importance)\n",
    "fig = plt.figure(figsize=(12, 6))\n",
    "plt.barh(range(len(sorted_idx)), feature_importance[sorted_idx], align='center')\n",
    "plt.yticks(range(len(sorted_idx)), np.array(X_test.columns)[sorted_idx])\n",
    "plt.title('Feature Importance')\n"
   ]
  },
  {
   "cell_type": "code",
   "execution_count": 41,
   "metadata": {},
   "outputs": [],
   "source": [
    "test01 = tst_data.drop(['id', ],axis=1)\n",
    "y_predicted=best_clf2.predict(test01)\n",
    "tst_data['class'] = y_predicted"
   ]
  },
  {
   "cell_type": "code",
   "execution_count": 42,
   "metadata": {},
   "outputs": [],
   "source": [
    "sub = pd.read_csv('./data/sample_submission.csv')\n",
    "sub = sub.drop(['class'],axis=1)\n",
    "submit = pd.merge(sub, tst_data[['id','class']], how='outer', on = 'id')\n",
    "submit = num_to_cat(submit)"
   ]
  },
  {
   "cell_type": "code",
   "execution_count": 43,
   "metadata": {},
   "outputs": [
    {
     "name": "stdout",
     "output_type": "stream",
     "text": [
      "./submit_file/2022-12-14\n"
     ]
    }
   ],
   "source": [
    "number = '02'\n",
    "submit_path = file_make('submit_file') +'/submitionXGB' + number +'.csv'\n",
    "submit.to_csv(submit_path,index=False)"
   ]
  },
  {
   "cell_type": "code",
   "execution_count": 44,
   "metadata": {},
   "outputs": [
    {
     "data": {
      "text/html": [
       "<div>\n",
       "<style scoped>\n",
       "    .dataframe tbody tr th:only-of-type {\n",
       "        vertical-align: middle;\n",
       "    }\n",
       "\n",
       "    .dataframe tbody tr th {\n",
       "        vertical-align: top;\n",
       "    }\n",
       "\n",
       "    .dataframe thead th {\n",
       "        text-align: right;\n",
       "    }\n",
       "</style>\n",
       "<table border=\"1\" class=\"dataframe\">\n",
       "  <thead>\n",
       "    <tr style=\"text-align: right;\">\n",
       "      <th></th>\n",
       "      <th>id</th>\n",
       "      <th>class</th>\n",
       "    </tr>\n",
       "  </thead>\n",
       "  <tbody>\n",
       "    <tr>\n",
       "      <th>0</th>\n",
       "      <td>TEST_000</td>\n",
       "      <td>A</td>\n",
       "    </tr>\n",
       "    <tr>\n",
       "      <th>1</th>\n",
       "      <td>TEST_001</td>\n",
       "      <td>B</td>\n",
       "    </tr>\n",
       "    <tr>\n",
       "      <th>2</th>\n",
       "      <td>TEST_002</td>\n",
       "      <td>C</td>\n",
       "    </tr>\n",
       "    <tr>\n",
       "      <th>3</th>\n",
       "      <td>TEST_003</td>\n",
       "      <td>B</td>\n",
       "    </tr>\n",
       "    <tr>\n",
       "      <th>4</th>\n",
       "      <td>TEST_004</td>\n",
       "      <td>A</td>\n",
       "    </tr>\n",
       "    <tr>\n",
       "      <th>...</th>\n",
       "      <td>...</td>\n",
       "      <td>...</td>\n",
       "    </tr>\n",
       "    <tr>\n",
       "      <th>170</th>\n",
       "      <td>TEST_170</td>\n",
       "      <td>B</td>\n",
       "    </tr>\n",
       "    <tr>\n",
       "      <th>171</th>\n",
       "      <td>TEST_171</td>\n",
       "      <td>C</td>\n",
       "    </tr>\n",
       "    <tr>\n",
       "      <th>172</th>\n",
       "      <td>TEST_172</td>\n",
       "      <td>C</td>\n",
       "    </tr>\n",
       "    <tr>\n",
       "      <th>173</th>\n",
       "      <td>TEST_173</td>\n",
       "      <td>B</td>\n",
       "    </tr>\n",
       "    <tr>\n",
       "      <th>174</th>\n",
       "      <td>TEST_174</td>\n",
       "      <td>B</td>\n",
       "    </tr>\n",
       "  </tbody>\n",
       "</table>\n",
       "<p>175 rows × 2 columns</p>\n",
       "</div>"
      ],
      "text/plain": [
       "           id class\n",
       "0    TEST_000     A\n",
       "1    TEST_001     B\n",
       "2    TEST_002     C\n",
       "3    TEST_003     B\n",
       "4    TEST_004     A\n",
       "..        ...   ...\n",
       "170  TEST_170     B\n",
       "171  TEST_171     C\n",
       "172  TEST_172     C\n",
       "173  TEST_173     B\n",
       "174  TEST_174     B\n",
       "\n",
       "[175 rows x 2 columns]"
      ]
     },
     "execution_count": 44,
     "metadata": {},
     "output_type": "execute_result"
    }
   ],
   "source": [
    "submit_check = pd.read_csv(submit_path)\n",
    "submit_check"
   ]
  },
  {
   "cell_type": "code",
   "execution_count": null,
   "metadata": {},
   "outputs": [],
   "source": []
  }
 ],
 "metadata": {
  "colab": {
   "provenance": []
  },
  "kernelspec": {
   "display_name": "Python 3",
   "language": "python",
   "name": "python3"
  },
  "language_info": {
   "codemirror_mode": {
    "name": "ipython",
    "version": 3
   },
   "file_extension": ".py",
   "mimetype": "text/x-python",
   "name": "python",
   "nbconvert_exporter": "python",
   "pygments_lexer": "ipython3",
   "version": "3.10.9"
  },
  "vscode": {
   "interpreter": {
    "hash": "cc2a200e1e6dab10c4dc3986f0e7a998296447c993c26561a1bd050a849d8214"
   }
  }
 },
 "nbformat": 4,
 "nbformat_minor": 1
}
